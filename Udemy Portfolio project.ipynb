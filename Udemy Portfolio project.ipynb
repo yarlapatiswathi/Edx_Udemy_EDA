{
 "cells": [
  {
   "cell_type": "code",
   "execution_count": 1,
   "id": "4790d73e",
   "metadata": {},
   "outputs": [],
   "source": [
    "#Loading necessary Libraries\n",
    "import pandas as pd\n",
    "import numpy as np\n",
    "import matplotlib.pyplot as plt\n",
    "import seaborn as sns\n",
    "import sqlite3\n",
    "from pathlib import Path as Path"
   ]
  },
  {
   "cell_type": "markdown",
   "id": "0696a2ad",
   "metadata": {},
   "source": [
    "### Loading Datasets"
   ]
  },
  {
   "cell_type": "code",
   "execution_count": 2,
   "id": "9566a9a5",
   "metadata": {},
   "outputs": [
    {
     "data": {
      "text/html": [
       "<div>\n",
       "<style scoped>\n",
       "    .dataframe tbody tr th:only-of-type {\n",
       "        vertical-align: middle;\n",
       "    }\n",
       "\n",
       "    .dataframe tbody tr th {\n",
       "        vertical-align: top;\n",
       "    }\n",
       "\n",
       "    .dataframe thead th {\n",
       "        text-align: right;\n",
       "    }\n",
       "</style>\n",
       "<table border=\"1\" class=\"dataframe\">\n",
       "  <thead>\n",
       "    <tr style=\"text-align: right;\">\n",
       "      <th></th>\n",
       "      <th>title</th>\n",
       "      <th>summary</th>\n",
       "      <th>n_enrolled</th>\n",
       "      <th>course_type</th>\n",
       "      <th>institution</th>\n",
       "      <th>instructors</th>\n",
       "      <th>Level</th>\n",
       "      <th>subject</th>\n",
       "      <th>language</th>\n",
       "      <th>subtitles</th>\n",
       "      <th>course_effort</th>\n",
       "      <th>course_length</th>\n",
       "      <th>price</th>\n",
       "      <th>course_description</th>\n",
       "      <th>course_syllabus</th>\n",
       "      <th>course_url</th>\n",
       "    </tr>\n",
       "  </thead>\n",
       "  <tbody>\n",
       "    <tr>\n",
       "      <th>0</th>\n",
       "      <td>How to Learn Online</td>\n",
       "      <td>Learn essential strategies for successful onli...</td>\n",
       "      <td>124,980</td>\n",
       "      <td>Self-paced on your time</td>\n",
       "      <td>edX</td>\n",
       "      <td>Nina Huntemann-Robyn Belair-Ben Piscopo</td>\n",
       "      <td>Introductory</td>\n",
       "      <td>Education &amp; Teacher Training</td>\n",
       "      <td>English</td>\n",
       "      <td>English</td>\n",
       "      <td>2–3 hours per week</td>\n",
       "      <td>2 Weeks</td>\n",
       "      <td>FREE-Add a Verified Certificate for $49 USD</td>\n",
       "      <td>Designed for those who are new to elearning, t...</td>\n",
       "      <td>Welcome - We start with opportunities to meet ...</td>\n",
       "      <td>https://www.edx.org/course/how-to-learn-online</td>\n",
       "    </tr>\n",
       "    <tr>\n",
       "      <th>1</th>\n",
       "      <td>Programming for Everybody (Getting Started wit...</td>\n",
       "      <td>This course is a \"no prerequisite\" introductio...</td>\n",
       "      <td>293,864</td>\n",
       "      <td>Self-paced on your time</td>\n",
       "      <td>The University of Michigan</td>\n",
       "      <td>Charles Severance</td>\n",
       "      <td>Introductory</td>\n",
       "      <td>Computer Science</td>\n",
       "      <td>English</td>\n",
       "      <td>English</td>\n",
       "      <td>2–4 hours per week</td>\n",
       "      <td>7 Weeks</td>\n",
       "      <td>FREE-Add a Verified Certificate for $49 USD</td>\n",
       "      <td>This course aims to teach everyone the basics ...</td>\n",
       "      <td>NaN</td>\n",
       "      <td>https://www.edx.org/course/programming-for-eve...</td>\n",
       "    </tr>\n",
       "    <tr>\n",
       "      <th>2</th>\n",
       "      <td>CS50's Introduction to Computer Science</td>\n",
       "      <td>An introduction to the intellectual enterprise...</td>\n",
       "      <td>2,442,271</td>\n",
       "      <td>Self-paced on your time</td>\n",
       "      <td>Harvard University</td>\n",
       "      <td>David J. Malan-Doug Lloyd-Brian Yu</td>\n",
       "      <td>Introductory</td>\n",
       "      <td>Computer Science</td>\n",
       "      <td>English</td>\n",
       "      <td>English</td>\n",
       "      <td>6–18 hours per week</td>\n",
       "      <td>12 Weeks</td>\n",
       "      <td>FREE-Add a Verified Certificate for $90 USD</td>\n",
       "      <td>This is CS50x , Harvard University's introduct...</td>\n",
       "      <td>NaN</td>\n",
       "      <td>https://www.edx.org/course/cs50s-introduction-...</td>\n",
       "    </tr>\n",
       "    <tr>\n",
       "      <th>3</th>\n",
       "      <td>The Analytics Edge</td>\n",
       "      <td>Through inspiring examples and stories, discov...</td>\n",
       "      <td>129,555</td>\n",
       "      <td>Instructor-led on a course schedule</td>\n",
       "      <td>Massachusetts Institute of Technology</td>\n",
       "      <td>Dimitris Bertsimas-Allison O'Hair-John Silberh...</td>\n",
       "      <td>Intermediate</td>\n",
       "      <td>Data Analysis &amp; Statistics</td>\n",
       "      <td>English</td>\n",
       "      <td>English</td>\n",
       "      <td>10–15 hours per week</td>\n",
       "      <td>13 Weeks</td>\n",
       "      <td>FREE-Add a Verified Certificate for $199 USD</td>\n",
       "      <td>In the last decade, the amount of data availab...</td>\n",
       "      <td>NaN</td>\n",
       "      <td>https://www.edx.org/course/the-analytics-edge</td>\n",
       "    </tr>\n",
       "    <tr>\n",
       "      <th>4</th>\n",
       "      <td>Marketing Analytics: Marketing Measurement Str...</td>\n",
       "      <td>This course is part of a MicroMasters® Program</td>\n",
       "      <td>81,140</td>\n",
       "      <td>Self-paced on your time</td>\n",
       "      <td>University of California, Berkeley</td>\n",
       "      <td>Stephan Sorger</td>\n",
       "      <td>Introductory</td>\n",
       "      <td>Computer Science</td>\n",
       "      <td>English</td>\n",
       "      <td>English</td>\n",
       "      <td>5–7 hours per week</td>\n",
       "      <td>4 Weeks</td>\n",
       "      <td>FREE-Add a Verified Certificate for $249 USD</td>\n",
       "      <td>Begin your journey in a new career in marketin...</td>\n",
       "      <td>NaN</td>\n",
       "      <td>https://www.edx.org/course/marketing-analytics...</td>\n",
       "    </tr>\n",
       "  </tbody>\n",
       "</table>\n",
       "</div>"
      ],
      "text/plain": [
       "                                               title  \\\n",
       "0                                How to Learn Online   \n",
       "1  Programming for Everybody (Getting Started wit...   \n",
       "2            CS50's Introduction to Computer Science   \n",
       "3                                 The Analytics Edge   \n",
       "4  Marketing Analytics: Marketing Measurement Str...   \n",
       "\n",
       "                                             summary n_enrolled  \\\n",
       "0  Learn essential strategies for successful onli...    124,980   \n",
       "1  This course is a \"no prerequisite\" introductio...    293,864   \n",
       "2  An introduction to the intellectual enterprise...  2,442,271   \n",
       "3  Through inspiring examples and stories, discov...    129,555   \n",
       "4     This course is part of a MicroMasters® Program     81,140   \n",
       "\n",
       "                           course_type                            institution  \\\n",
       "0              Self-paced on your time                                    edX   \n",
       "1              Self-paced on your time             The University of Michigan   \n",
       "2              Self-paced on your time                     Harvard University   \n",
       "3  Instructor-led on a course schedule  Massachusetts Institute of Technology   \n",
       "4              Self-paced on your time     University of California, Berkeley   \n",
       "\n",
       "                                         instructors         Level  \\\n",
       "0            Nina Huntemann-Robyn Belair-Ben Piscopo  Introductory   \n",
       "1                                  Charles Severance  Introductory   \n",
       "2                 David J. Malan-Doug Lloyd-Brian Yu  Introductory   \n",
       "3  Dimitris Bertsimas-Allison O'Hair-John Silberh...  Intermediate   \n",
       "4                                     Stephan Sorger  Introductory   \n",
       "\n",
       "                        subject language subtitles         course_effort  \\\n",
       "0  Education & Teacher Training  English   English    2–3 hours per week   \n",
       "1              Computer Science  English   English    2–4 hours per week   \n",
       "2              Computer Science  English   English   6–18 hours per week   \n",
       "3    Data Analysis & Statistics  English   English  10–15 hours per week   \n",
       "4              Computer Science  English   English    5–7 hours per week   \n",
       "\n",
       "  course_length                                         price  \\\n",
       "0       2 Weeks   FREE-Add a Verified Certificate for $49 USD   \n",
       "1       7 Weeks   FREE-Add a Verified Certificate for $49 USD   \n",
       "2      12 Weeks   FREE-Add a Verified Certificate for $90 USD   \n",
       "3      13 Weeks  FREE-Add a Verified Certificate for $199 USD   \n",
       "4       4 Weeks  FREE-Add a Verified Certificate for $249 USD   \n",
       "\n",
       "                                  course_description  \\\n",
       "0  Designed for those who are new to elearning, t...   \n",
       "1  This course aims to teach everyone the basics ...   \n",
       "2  This is CS50x , Harvard University's introduct...   \n",
       "3  In the last decade, the amount of data availab...   \n",
       "4  Begin your journey in a new career in marketin...   \n",
       "\n",
       "                                     course_syllabus  \\\n",
       "0  Welcome - We start with opportunities to meet ...   \n",
       "1                                                NaN   \n",
       "2                                                NaN   \n",
       "3                                                NaN   \n",
       "4                                                NaN   \n",
       "\n",
       "                                          course_url  \n",
       "0     https://www.edx.org/course/how-to-learn-online  \n",
       "1  https://www.edx.org/course/programming-for-eve...  \n",
       "2  https://www.edx.org/course/cs50s-introduction-...  \n",
       "3      https://www.edx.org/course/the-analytics-edge  \n",
       "4  https://www.edx.org/course/marketing-analytics...  "
      ]
     },
     "execution_count": 2,
     "metadata": {},
     "output_type": "execute_result"
    }
   ],
   "source": [
    "edxcourses_df=pd.read_csv('edx_courses.csv')\n",
    "edxcourses_df.head(5)"
   ]
  },
  {
   "cell_type": "code",
   "execution_count": 3,
   "id": "18311df8",
   "metadata": {},
   "outputs": [
    {
     "data": {
      "text/html": [
       "<div>\n",
       "<style scoped>\n",
       "    .dataframe tbody tr th:only-of-type {\n",
       "        vertical-align: middle;\n",
       "    }\n",
       "\n",
       "    .dataframe tbody tr th {\n",
       "        vertical-align: top;\n",
       "    }\n",
       "\n",
       "    .dataframe thead th {\n",
       "        text-align: right;\n",
       "    }\n",
       "</style>\n",
       "<table border=\"1\" class=\"dataframe\">\n",
       "  <thead>\n",
       "    <tr style=\"text-align: right;\">\n",
       "      <th></th>\n",
       "      <th>Institution</th>\n",
       "      <th>Course Number</th>\n",
       "      <th>Launch Date</th>\n",
       "      <th>Course Title</th>\n",
       "      <th>Instructors</th>\n",
       "      <th>Course Subject</th>\n",
       "      <th>Year</th>\n",
       "      <th>Honor Code Certificates</th>\n",
       "      <th>Participants (Course Content Accessed)</th>\n",
       "      <th>Audited (&gt; 50% Course Content Accessed)</th>\n",
       "      <th>...</th>\n",
       "      <th>% Certified of &gt; 50% Course Content Accessed</th>\n",
       "      <th>% Played Video</th>\n",
       "      <th>% Posted in Forum</th>\n",
       "      <th>% Grade Higher Than Zero</th>\n",
       "      <th>Total Course Hours (Thousands)</th>\n",
       "      <th>Median Hours for Certification</th>\n",
       "      <th>Median Age</th>\n",
       "      <th>% Male</th>\n",
       "      <th>% Female</th>\n",
       "      <th>% Bachelor's Degree or Higher</th>\n",
       "    </tr>\n",
       "  </thead>\n",
       "  <tbody>\n",
       "    <tr>\n",
       "      <th>0</th>\n",
       "      <td>MITx</td>\n",
       "      <td>6.002x</td>\n",
       "      <td>09/05/2012</td>\n",
       "      <td>Circuits and Electronics</td>\n",
       "      <td>Khurram Afridi</td>\n",
       "      <td>Science, Technology, Engineering, and Mathematics</td>\n",
       "      <td>1</td>\n",
       "      <td>1</td>\n",
       "      <td>36105</td>\n",
       "      <td>5431</td>\n",
       "      <td>...</td>\n",
       "      <td>54.98</td>\n",
       "      <td>83.2</td>\n",
       "      <td>8.17</td>\n",
       "      <td>28.97</td>\n",
       "      <td>418.94</td>\n",
       "      <td>64.45</td>\n",
       "      <td>26.0</td>\n",
       "      <td>88.28</td>\n",
       "      <td>11.72</td>\n",
       "      <td>60.68</td>\n",
       "    </tr>\n",
       "    <tr>\n",
       "      <th>1</th>\n",
       "      <td>MITx</td>\n",
       "      <td>6.00x</td>\n",
       "      <td>09/26/2012</td>\n",
       "      <td>Introduction to Computer Science and Programming</td>\n",
       "      <td>Eric Grimson, John Guttag, Chris Terman</td>\n",
       "      <td>Computer Science</td>\n",
       "      <td>1</td>\n",
       "      <td>1</td>\n",
       "      <td>62709</td>\n",
       "      <td>8949</td>\n",
       "      <td>...</td>\n",
       "      <td>64.05</td>\n",
       "      <td>89.14</td>\n",
       "      <td>14.38</td>\n",
       "      <td>39.50</td>\n",
       "      <td>884.04</td>\n",
       "      <td>78.53</td>\n",
       "      <td>28.0</td>\n",
       "      <td>83.50</td>\n",
       "      <td>16.50</td>\n",
       "      <td>63.04</td>\n",
       "    </tr>\n",
       "    <tr>\n",
       "      <th>2</th>\n",
       "      <td>MITx</td>\n",
       "      <td>3.091x</td>\n",
       "      <td>10/09/2012</td>\n",
       "      <td>Introduction to Solid State Chemistry</td>\n",
       "      <td>Michael Cima</td>\n",
       "      <td>Science, Technology, Engineering, and Mathematics</td>\n",
       "      <td>1</td>\n",
       "      <td>1</td>\n",
       "      <td>16663</td>\n",
       "      <td>2855</td>\n",
       "      <td>...</td>\n",
       "      <td>72.85</td>\n",
       "      <td>87.49</td>\n",
       "      <td>14.42</td>\n",
       "      <td>34.89</td>\n",
       "      <td>227.55</td>\n",
       "      <td>61.28</td>\n",
       "      <td>27.0</td>\n",
       "      <td>70.32</td>\n",
       "      <td>29.68</td>\n",
       "      <td>58.76</td>\n",
       "    </tr>\n",
       "    <tr>\n",
       "      <th>3</th>\n",
       "      <td>HarvardX</td>\n",
       "      <td>CS50x</td>\n",
       "      <td>10/15/2012</td>\n",
       "      <td>Introduction to Computer Science</td>\n",
       "      <td>David Malan, Nate Hardison, Rob Bowden, Tommy ...</td>\n",
       "      <td>Computer Science</td>\n",
       "      <td>1</td>\n",
       "      <td>1</td>\n",
       "      <td>129400</td>\n",
       "      <td>12888</td>\n",
       "      <td>...</td>\n",
       "      <td>11.11</td>\n",
       "      <td>0</td>\n",
       "      <td>0.00</td>\n",
       "      <td>1.11</td>\n",
       "      <td>220.90</td>\n",
       "      <td>0.00</td>\n",
       "      <td>28.0</td>\n",
       "      <td>80.02</td>\n",
       "      <td>19.98</td>\n",
       "      <td>58.78</td>\n",
       "    </tr>\n",
       "    <tr>\n",
       "      <th>4</th>\n",
       "      <td>HarvardX</td>\n",
       "      <td>PH207x</td>\n",
       "      <td>10/15/2012</td>\n",
       "      <td>Health in Numbers: Quantitative Methods in Cli...</td>\n",
       "      <td>Earl Francis Cook, Marcello Pagano</td>\n",
       "      <td>Government, Health, and Social Science</td>\n",
       "      <td>1</td>\n",
       "      <td>1</td>\n",
       "      <td>52521</td>\n",
       "      <td>10729</td>\n",
       "      <td>...</td>\n",
       "      <td>47.12</td>\n",
       "      <td>77.45</td>\n",
       "      <td>15.98</td>\n",
       "      <td>32.52</td>\n",
       "      <td>804.41</td>\n",
       "      <td>76.10</td>\n",
       "      <td>32.0</td>\n",
       "      <td>56.78</td>\n",
       "      <td>43.22</td>\n",
       "      <td>88.33</td>\n",
       "    </tr>\n",
       "  </tbody>\n",
       "</table>\n",
       "<p>5 rows × 23 columns</p>\n",
       "</div>"
      ],
      "text/plain": [
       "  Institution Course Number Launch Date  \\\n",
       "0        MITx        6.002x  09/05/2012   \n",
       "1        MITx         6.00x  09/26/2012   \n",
       "2        MITx        3.091x  10/09/2012   \n",
       "3    HarvardX         CS50x  10/15/2012   \n",
       "4    HarvardX        PH207x  10/15/2012   \n",
       "\n",
       "                                        Course Title  \\\n",
       "0                           Circuits and Electronics   \n",
       "1   Introduction to Computer Science and Programming   \n",
       "2              Introduction to Solid State Chemistry   \n",
       "3                   Introduction to Computer Science   \n",
       "4  Health in Numbers: Quantitative Methods in Cli...   \n",
       "\n",
       "                                         Instructors  \\\n",
       "0                                     Khurram Afridi   \n",
       "1            Eric Grimson, John Guttag, Chris Terman   \n",
       "2                                       Michael Cima   \n",
       "3  David Malan, Nate Hardison, Rob Bowden, Tommy ...   \n",
       "4                 Earl Francis Cook, Marcello Pagano   \n",
       "\n",
       "                                      Course Subject  Year  \\\n",
       "0  Science, Technology, Engineering, and Mathematics     1   \n",
       "1                                   Computer Science     1   \n",
       "2  Science, Technology, Engineering, and Mathematics     1   \n",
       "3                                   Computer Science     1   \n",
       "4             Government, Health, and Social Science     1   \n",
       "\n",
       "   Honor Code Certificates  Participants (Course Content Accessed)  \\\n",
       "0                        1                                   36105   \n",
       "1                        1                                   62709   \n",
       "2                        1                                   16663   \n",
       "3                        1                                  129400   \n",
       "4                        1                                   52521   \n",
       "\n",
       "   Audited (> 50% Course Content Accessed)  ...  \\\n",
       "0                                     5431  ...   \n",
       "1                                     8949  ...   \n",
       "2                                     2855  ...   \n",
       "3                                    12888  ...   \n",
       "4                                    10729  ...   \n",
       "\n",
       "   % Certified of > 50% Course Content Accessed  % Played Video  \\\n",
       "0                                         54.98            83.2   \n",
       "1                                         64.05           89.14   \n",
       "2                                         72.85           87.49   \n",
       "3                                         11.11               0   \n",
       "4                                         47.12           77.45   \n",
       "\n",
       "   % Posted in Forum  % Grade Higher Than Zero Total Course Hours (Thousands)  \\\n",
       "0               8.17                     28.97                         418.94   \n",
       "1              14.38                     39.50                         884.04   \n",
       "2              14.42                     34.89                         227.55   \n",
       "3               0.00                      1.11                         220.90   \n",
       "4              15.98                     32.52                         804.41   \n",
       "\n",
       "   Median Hours for Certification  Median Age  % Male  % Female  \\\n",
       "0                           64.45        26.0   88.28     11.72   \n",
       "1                           78.53        28.0   83.50     16.50   \n",
       "2                           61.28        27.0   70.32     29.68   \n",
       "3                            0.00        28.0   80.02     19.98   \n",
       "4                           76.10        32.0   56.78     43.22   \n",
       "\n",
       "   % Bachelor's Degree or Higher  \n",
       "0                          60.68  \n",
       "1                          63.04  \n",
       "2                          58.76  \n",
       "3                          58.78  \n",
       "4                          88.33  \n",
       "\n",
       "[5 rows x 23 columns]"
      ]
     },
     "execution_count": 3,
     "metadata": {},
     "output_type": "execute_result"
    }
   ],
   "source": [
    "edxuser_df=pd.read_csv('edx_user_data.csv')\n",
    "edxuser_df.head(5)"
   ]
  },
  {
   "cell_type": "code",
   "execution_count": 4,
   "id": "c332f2fb",
   "metadata": {},
   "outputs": [
    {
     "data": {
      "text/html": [
       "<div>\n",
       "<style scoped>\n",
       "    .dataframe tbody tr th:only-of-type {\n",
       "        vertical-align: middle;\n",
       "    }\n",
       "\n",
       "    .dataframe tbody tr th {\n",
       "        vertical-align: top;\n",
       "    }\n",
       "\n",
       "    .dataframe thead th {\n",
       "        text-align: right;\n",
       "    }\n",
       "</style>\n",
       "<table border=\"1\" class=\"dataframe\">\n",
       "  <thead>\n",
       "    <tr style=\"text-align: right;\">\n",
       "      <th></th>\n",
       "      <th>course_id</th>\n",
       "      <th>course_title</th>\n",
       "      <th>url</th>\n",
       "      <th>is_paid</th>\n",
       "      <th>price</th>\n",
       "      <th>num_subscribers</th>\n",
       "      <th>num_reviews</th>\n",
       "      <th>num_lectures</th>\n",
       "      <th>level</th>\n",
       "      <th>content_duration</th>\n",
       "      <th>published_timestamp</th>\n",
       "      <th>subject</th>\n",
       "    </tr>\n",
       "  </thead>\n",
       "  <tbody>\n",
       "    <tr>\n",
       "      <th>0</th>\n",
       "      <td>1070968</td>\n",
       "      <td>Ultimate Investment Banking Course</td>\n",
       "      <td>https://www.udemy.com/ultimate-investment-bank...</td>\n",
       "      <td>True</td>\n",
       "      <td>200</td>\n",
       "      <td>2147</td>\n",
       "      <td>23</td>\n",
       "      <td>51</td>\n",
       "      <td>All Levels</td>\n",
       "      <td>1.5</td>\n",
       "      <td>2017-01-18T20:58:58Z</td>\n",
       "      <td>Business Finance</td>\n",
       "    </tr>\n",
       "    <tr>\n",
       "      <th>1</th>\n",
       "      <td>1113822</td>\n",
       "      <td>Complete GST Course &amp; Certification - Grow You...</td>\n",
       "      <td>https://www.udemy.com/goods-and-services-tax/</td>\n",
       "      <td>True</td>\n",
       "      <td>75</td>\n",
       "      <td>2792</td>\n",
       "      <td>923</td>\n",
       "      <td>274</td>\n",
       "      <td>All Levels</td>\n",
       "      <td>39.0</td>\n",
       "      <td>2017-03-09T16:34:20Z</td>\n",
       "      <td>Business Finance</td>\n",
       "    </tr>\n",
       "    <tr>\n",
       "      <th>2</th>\n",
       "      <td>1006314</td>\n",
       "      <td>Financial Modeling for Business Analysts and C...</td>\n",
       "      <td>https://www.udemy.com/financial-modeling-for-b...</td>\n",
       "      <td>True</td>\n",
       "      <td>45</td>\n",
       "      <td>2174</td>\n",
       "      <td>74</td>\n",
       "      <td>51</td>\n",
       "      <td>Intermediate Level</td>\n",
       "      <td>2.5</td>\n",
       "      <td>2016-12-19T19:26:30Z</td>\n",
       "      <td>Business Finance</td>\n",
       "    </tr>\n",
       "    <tr>\n",
       "      <th>3</th>\n",
       "      <td>1210588</td>\n",
       "      <td>Beginner to Pro - Financial Analysis in Excel ...</td>\n",
       "      <td>https://www.udemy.com/complete-excel-finance-c...</td>\n",
       "      <td>True</td>\n",
       "      <td>95</td>\n",
       "      <td>2451</td>\n",
       "      <td>11</td>\n",
       "      <td>36</td>\n",
       "      <td>All Levels</td>\n",
       "      <td>3.0</td>\n",
       "      <td>2017-05-30T20:07:24Z</td>\n",
       "      <td>Business Finance</td>\n",
       "    </tr>\n",
       "    <tr>\n",
       "      <th>4</th>\n",
       "      <td>1011058</td>\n",
       "      <td>How To Maximize Your Profits Trading Options</td>\n",
       "      <td>https://www.udemy.com/how-to-maximize-your-pro...</td>\n",
       "      <td>True</td>\n",
       "      <td>200</td>\n",
       "      <td>1276</td>\n",
       "      <td>45</td>\n",
       "      <td>26</td>\n",
       "      <td>Intermediate Level</td>\n",
       "      <td>2.0</td>\n",
       "      <td>2016-12-13T14:57:18Z</td>\n",
       "      <td>Business Finance</td>\n",
       "    </tr>\n",
       "  </tbody>\n",
       "</table>\n",
       "</div>"
      ],
      "text/plain": [
       "   course_id                                       course_title  \\\n",
       "0    1070968                 Ultimate Investment Banking Course   \n",
       "1    1113822  Complete GST Course & Certification - Grow You...   \n",
       "2    1006314  Financial Modeling for Business Analysts and C...   \n",
       "3    1210588  Beginner to Pro - Financial Analysis in Excel ...   \n",
       "4    1011058       How To Maximize Your Profits Trading Options   \n",
       "\n",
       "                                                 url  is_paid  price  \\\n",
       "0  https://www.udemy.com/ultimate-investment-bank...     True    200   \n",
       "1      https://www.udemy.com/goods-and-services-tax/     True     75   \n",
       "2  https://www.udemy.com/financial-modeling-for-b...     True     45   \n",
       "3  https://www.udemy.com/complete-excel-finance-c...     True     95   \n",
       "4  https://www.udemy.com/how-to-maximize-your-pro...     True    200   \n",
       "\n",
       "   num_subscribers  num_reviews  num_lectures               level  \\\n",
       "0             2147           23            51          All Levels   \n",
       "1             2792          923           274          All Levels   \n",
       "2             2174           74            51  Intermediate Level   \n",
       "3             2451           11            36          All Levels   \n",
       "4             1276           45            26  Intermediate Level   \n",
       "\n",
       "   content_duration   published_timestamp           subject  \n",
       "0               1.5  2017-01-18T20:58:58Z  Business Finance  \n",
       "1              39.0  2017-03-09T16:34:20Z  Business Finance  \n",
       "2               2.5  2016-12-19T19:26:30Z  Business Finance  \n",
       "3               3.0  2017-05-30T20:07:24Z  Business Finance  \n",
       "4               2.0  2016-12-13T14:57:18Z  Business Finance  "
      ]
     },
     "execution_count": 4,
     "metadata": {},
     "output_type": "execute_result"
    }
   ],
   "source": [
    "udemy_df=pd.read_csv('udemy_courses.csv')\n",
    "udemy_df.head(5)"
   ]
  },
  {
   "cell_type": "markdown",
   "id": "efe7718f",
   "metadata": {},
   "source": [
    "### Data Cleaning"
   ]
  },
  {
   "cell_type": "code",
   "execution_count": 5,
   "id": "33e496e7",
   "metadata": {},
   "outputs": [
    {
     "name": "stdout",
     "output_type": "stream",
     "text": [
      "<class 'pandas.core.frame.DataFrame'>\n",
      "RangeIndex: 975 entries, 0 to 974\n",
      "Data columns (total 16 columns):\n",
      " #   Column              Non-Null Count  Dtype \n",
      "---  ------              --------------  ----- \n",
      " 0   title               975 non-null    object\n",
      " 1   summary             922 non-null    object\n",
      " 2   n_enrolled          855 non-null    object\n",
      " 3   course_type         975 non-null    object\n",
      " 4   institution         975 non-null    object\n",
      " 5   instructors         972 non-null    object\n",
      " 6   Level               975 non-null    object\n",
      " 7   subject             975 non-null    object\n",
      " 8   language            975 non-null    object\n",
      " 9   subtitles           972 non-null    object\n",
      " 10  course_effort       975 non-null    object\n",
      " 11  course_length       975 non-null    object\n",
      " 12  price               975 non-null    object\n",
      " 13  course_description  935 non-null    object\n",
      " 14  course_syllabus     417 non-null    object\n",
      " 15  course_url          975 non-null    object\n",
      "dtypes: object(16)\n",
      "memory usage: 122.0+ KB\n"
     ]
    }
   ],
   "source": [
    "#edxcourses_df.dtypes\n",
    "edxcourses_df.info()"
   ]
  },
  {
   "cell_type": "code",
   "execution_count": 232,
   "id": "3cb9a3bb",
   "metadata": {},
   "outputs": [
    {
     "data": {
      "text/html": [
       "<div>\n",
       "<style scoped>\n",
       "    .dataframe tbody tr th:only-of-type {\n",
       "        vertical-align: middle;\n",
       "    }\n",
       "\n",
       "    .dataframe tbody tr th {\n",
       "        vertical-align: top;\n",
       "    }\n",
       "\n",
       "    .dataframe thead th {\n",
       "        text-align: right;\n",
       "    }\n",
       "</style>\n",
       "<table border=\"1\" class=\"dataframe\">\n",
       "  <thead>\n",
       "    <tr style=\"text-align: right;\">\n",
       "      <th></th>\n",
       "      <th>count</th>\n",
       "      <th>mean</th>\n",
       "      <th>std</th>\n",
       "      <th>min</th>\n",
       "      <th>25%</th>\n",
       "      <th>50%</th>\n",
       "      <th>75%</th>\n",
       "      <th>max</th>\n",
       "    </tr>\n",
       "  </thead>\n",
       "  <tbody>\n",
       "    <tr>\n",
       "      <th>n_enrolled</th>\n",
       "      <td>975.0</td>\n",
       "      <td>46705.230769</td>\n",
       "      <td>112823.894275</td>\n",
       "      <td>0.0</td>\n",
       "      <td>8529.5</td>\n",
       "      <td>19687.0</td>\n",
       "      <td>48918.5</td>\n",
       "      <td>2442271.0</td>\n",
       "    </tr>\n",
       "    <tr>\n",
       "      <th>course_length</th>\n",
       "      <td>975.0</td>\n",
       "      <td>6.705641</td>\n",
       "      <td>3.150327</td>\n",
       "      <td>1.0</td>\n",
       "      <td>4.0</td>\n",
       "      <td>6.0</td>\n",
       "      <td>8.0</td>\n",
       "      <td>18.0</td>\n",
       "    </tr>\n",
       "    <tr>\n",
       "      <th>price</th>\n",
       "      <td>975.0</td>\n",
       "      <td>100.465497</td>\n",
       "      <td>69.572175</td>\n",
       "      <td>5.0</td>\n",
       "      <td>49.0</td>\n",
       "      <td>79.0</td>\n",
       "      <td>149.0</td>\n",
       "      <td>450.0</td>\n",
       "    </tr>\n",
       "  </tbody>\n",
       "</table>\n",
       "</div>"
      ],
      "text/plain": [
       "               count          mean            std  min     25%      50%  \\\n",
       "n_enrolled     975.0  46705.230769  112823.894275  0.0  8529.5  19687.0   \n",
       "course_length  975.0      6.705641       3.150327  1.0     4.0      6.0   \n",
       "price          975.0    100.465497      69.572175  5.0    49.0     79.0   \n",
       "\n",
       "                   75%        max  \n",
       "n_enrolled     48918.5  2442271.0  \n",
       "course_length      8.0       18.0  \n",
       "price            149.0      450.0  "
      ]
     },
     "execution_count": 232,
     "metadata": {},
     "output_type": "execute_result"
    }
   ],
   "source": [
    "edxcourses_df.describe().transpose()"
   ]
  },
  {
   "cell_type": "code",
   "execution_count": 6,
   "id": "55438fe0",
   "metadata": {
    "scrolled": true
   },
   "outputs": [],
   "source": [
    "# Removing extra characters\n",
    "edxcourses_df['n_enrolled']=edxcourses_df['n_enrolled'].str.replace(',','')\n",
    "edxcourses_df['price']=edxcourses_df['price'].str.replace('FREE-Add a Verified Certificate for','').str.replace('$','',regex=False).str.replace('USD','')\n",
    "edxcourses_df['course_length'] = edxcourses_df['course_length'].str.replace('Weeks', '')"
   ]
  },
  {
   "cell_type": "code",
   "execution_count": 7,
   "id": "916bc430",
   "metadata": {},
   "outputs": [],
   "source": [
    "# Handling Null values\n",
    "edxcourses_df['n_enrolled'] = edxcourses_df['n_enrolled'].fillna(0)\n",
    "edxcourses_df['n_enrolled'] = edxcourses_df['n_enrolled'].astype(int)\n",
    "edxcourses_df['course_length']=edxcourses_df['course_length'].astype(int)\n",
    "edxcourses_df['price']=edxcourses_df['price'].astype('float')"
   ]
  },
  {
   "cell_type": "code",
   "execution_count": 8,
   "id": "438d7451",
   "metadata": {},
   "outputs": [
    {
     "data": {
      "text/plain": [
       "title                 0\n",
       "summary               0\n",
       "n_enrolled            0\n",
       "course_type           0\n",
       "institution           0\n",
       "instructors           0\n",
       "Level                 0\n",
       "subject               0\n",
       "language              0\n",
       "subtitles             0\n",
       "course_effort         0\n",
       "course_length         0\n",
       "price                 0\n",
       "course_description    0\n",
       "course_syllabus       0\n",
       "course_url            0\n",
       "dtype: int64"
      ]
     },
     "execution_count": 8,
     "metadata": {},
     "output_type": "execute_result"
    }
   ],
   "source": [
    "edxcourses_df['summary'] = edxcourses_df['summary'].fillna('Unlisted')\n",
    "edxcourses_df['instructors'] = edxcourses_df['instructors'].fillna('Unlisted')\n",
    "edxcourses_df['subtitles'] = edxcourses_df['subtitles'].fillna('English')\n",
    "edxcourses_df['course_description'] = edxcourses_df['course_description'].fillna('Unlisted')\n",
    "edxcourses_df['course_syllabus'] = edxcourses_df['course_syllabus'].fillna('Unlisted')\n",
    "edxcourses_df.isna().sum()"
   ]
  },
  {
   "cell_type": "code",
   "execution_count": 11,
   "id": "f348ddca",
   "metadata": {
    "collapsed": true
   },
   "outputs": [
    {
     "data": {
      "text/html": [
       "<div>\n",
       "<style scoped>\n",
       "    .dataframe tbody tr th:only-of-type {\n",
       "        vertical-align: middle;\n",
       "    }\n",
       "\n",
       "    .dataframe tbody tr th {\n",
       "        vertical-align: top;\n",
       "    }\n",
       "\n",
       "    .dataframe thead th {\n",
       "        text-align: right;\n",
       "    }\n",
       "</style>\n",
       "<table border=\"1\" class=\"dataframe\">\n",
       "  <thead>\n",
       "    <tr style=\"text-align: right;\">\n",
       "      <th></th>\n",
       "      <th>title</th>\n",
       "      <th>n_enrolled</th>\n",
       "      <th>course_type</th>\n",
       "      <th>institution</th>\n",
       "      <th>instructors</th>\n",
       "      <th>Level</th>\n",
       "      <th>subject</th>\n",
       "      <th>language</th>\n",
       "      <th>subtitles</th>\n",
       "      <th>course_effort</th>\n",
       "      <th>course_length</th>\n",
       "      <th>price</th>\n",
       "    </tr>\n",
       "  </thead>\n",
       "  <tbody>\n",
       "    <tr>\n",
       "      <th>0</th>\n",
       "      <td>How to Learn Online</td>\n",
       "      <td>124980</td>\n",
       "      <td>Self-paced on your time</td>\n",
       "      <td>edX</td>\n",
       "      <td>Nina Huntemann-Robyn Belair-Ben Piscopo</td>\n",
       "      <td>Introductory</td>\n",
       "      <td>Education &amp; Teacher Training</td>\n",
       "      <td>English</td>\n",
       "      <td>English</td>\n",
       "      <td>2–3 hours per week</td>\n",
       "      <td>2</td>\n",
       "      <td>49.0</td>\n",
       "    </tr>\n",
       "    <tr>\n",
       "      <th>1</th>\n",
       "      <td>Programming for Everybody (Getting Started wit...</td>\n",
       "      <td>293864</td>\n",
       "      <td>Self-paced on your time</td>\n",
       "      <td>The University of Michigan</td>\n",
       "      <td>Charles Severance</td>\n",
       "      <td>Introductory</td>\n",
       "      <td>Computer Science</td>\n",
       "      <td>English</td>\n",
       "      <td>English</td>\n",
       "      <td>2–4 hours per week</td>\n",
       "      <td>7</td>\n",
       "      <td>49.0</td>\n",
       "    </tr>\n",
       "    <tr>\n",
       "      <th>2</th>\n",
       "      <td>CS50's Introduction to Computer Science</td>\n",
       "      <td>2442271</td>\n",
       "      <td>Self-paced on your time</td>\n",
       "      <td>Harvard University</td>\n",
       "      <td>David J. Malan-Doug Lloyd-Brian Yu</td>\n",
       "      <td>Introductory</td>\n",
       "      <td>Computer Science</td>\n",
       "      <td>English</td>\n",
       "      <td>English</td>\n",
       "      <td>6–18 hours per week</td>\n",
       "      <td>12</td>\n",
       "      <td>90.0</td>\n",
       "    </tr>\n",
       "    <tr>\n",
       "      <th>3</th>\n",
       "      <td>The Analytics Edge</td>\n",
       "      <td>129555</td>\n",
       "      <td>Instructor-led on a course schedule</td>\n",
       "      <td>Massachusetts Institute of Technology</td>\n",
       "      <td>Dimitris Bertsimas-Allison O'Hair-John Silberh...</td>\n",
       "      <td>Intermediate</td>\n",
       "      <td>Data Analysis &amp; Statistics</td>\n",
       "      <td>English</td>\n",
       "      <td>English</td>\n",
       "      <td>10–15 hours per week</td>\n",
       "      <td>13</td>\n",
       "      <td>199.0</td>\n",
       "    </tr>\n",
       "    <tr>\n",
       "      <th>4</th>\n",
       "      <td>Marketing Analytics: Marketing Measurement Str...</td>\n",
       "      <td>81140</td>\n",
       "      <td>Self-paced on your time</td>\n",
       "      <td>University of California, Berkeley</td>\n",
       "      <td>Stephan Sorger</td>\n",
       "      <td>Introductory</td>\n",
       "      <td>Computer Science</td>\n",
       "      <td>English</td>\n",
       "      <td>English</td>\n",
       "      <td>5–7 hours per week</td>\n",
       "      <td>4</td>\n",
       "      <td>249.0</td>\n",
       "    </tr>\n",
       "  </tbody>\n",
       "</table>\n",
       "</div>"
      ],
      "text/plain": [
       "                                               title  n_enrolled  \\\n",
       "0                                How to Learn Online      124980   \n",
       "1  Programming for Everybody (Getting Started wit...      293864   \n",
       "2            CS50's Introduction to Computer Science     2442271   \n",
       "3                                 The Analytics Edge      129555   \n",
       "4  Marketing Analytics: Marketing Measurement Str...       81140   \n",
       "\n",
       "                           course_type                            institution  \\\n",
       "0              Self-paced on your time                                    edX   \n",
       "1              Self-paced on your time             The University of Michigan   \n",
       "2              Self-paced on your time                     Harvard University   \n",
       "3  Instructor-led on a course schedule  Massachusetts Institute of Technology   \n",
       "4              Self-paced on your time     University of California, Berkeley   \n",
       "\n",
       "                                         instructors         Level  \\\n",
       "0            Nina Huntemann-Robyn Belair-Ben Piscopo  Introductory   \n",
       "1                                  Charles Severance  Introductory   \n",
       "2                 David J. Malan-Doug Lloyd-Brian Yu  Introductory   \n",
       "3  Dimitris Bertsimas-Allison O'Hair-John Silberh...  Intermediate   \n",
       "4                                     Stephan Sorger  Introductory   \n",
       "\n",
       "                        subject language subtitles         course_effort  \\\n",
       "0  Education & Teacher Training  English   English    2–3 hours per week   \n",
       "1              Computer Science  English   English    2–4 hours per week   \n",
       "2              Computer Science  English   English   6–18 hours per week   \n",
       "3    Data Analysis & Statistics  English   English  10–15 hours per week   \n",
       "4              Computer Science  English   English    5–7 hours per week   \n",
       "\n",
       "   course_length  price  \n",
       "0              2   49.0  \n",
       "1              7   49.0  \n",
       "2             12   90.0  \n",
       "3             13  199.0  \n",
       "4              4  249.0  "
      ]
     },
     "execution_count": 11,
     "metadata": {},
     "output_type": "execute_result"
    }
   ],
   "source": [
    "# Dropping unwanted columns\n",
    "edxcourses_df=edxcourses_df.drop(['summary','course_description','course_syllabus','course_url'],axis=1)\n",
    "edxcourses_df.head(5)"
   ]
  },
  {
   "cell_type": "code",
   "execution_count": 14,
   "id": "9bafc6b5",
   "metadata": {
    "collapsed": true
   },
   "outputs": [
    {
     "data": {
      "text/html": [
       "<div>\n",
       "<style scoped>\n",
       "    .dataframe tbody tr th:only-of-type {\n",
       "        vertical-align: middle;\n",
       "    }\n",
       "\n",
       "    .dataframe tbody tr th {\n",
       "        vertical-align: top;\n",
       "    }\n",
       "\n",
       "    .dataframe thead th {\n",
       "        text-align: right;\n",
       "    }\n",
       "</style>\n",
       "<table border=\"1\" class=\"dataframe\">\n",
       "  <thead>\n",
       "    <tr style=\"text-align: right;\">\n",
       "      <th></th>\n",
       "      <th>title</th>\n",
       "      <th>n_enrolled</th>\n",
       "      <th>course_type</th>\n",
       "      <th>institution</th>\n",
       "      <th>instructors</th>\n",
       "      <th>Level</th>\n",
       "      <th>subject</th>\n",
       "      <th>language</th>\n",
       "      <th>subtitles</th>\n",
       "      <th>course_effort</th>\n",
       "      <th>course_length</th>\n",
       "      <th>price</th>\n",
       "    </tr>\n",
       "  </thead>\n",
       "  <tbody>\n",
       "    <tr>\n",
       "      <th>0</th>\n",
       "      <td>How to Learn Online</td>\n",
       "      <td>124980</td>\n",
       "      <td>Self-paced on your time</td>\n",
       "      <td>edX</td>\n",
       "      <td>Nina Huntemann-Robyn Belair-Ben Piscopo</td>\n",
       "      <td>Introductory</td>\n",
       "      <td>Education &amp; Teacher Training</td>\n",
       "      <td>English</td>\n",
       "      <td>English</td>\n",
       "      <td>2–3 hours per week</td>\n",
       "      <td>2</td>\n",
       "      <td>49.0</td>\n",
       "    </tr>\n",
       "    <tr>\n",
       "      <th>1</th>\n",
       "      <td>Programming for Everybody (Getting Started wit...</td>\n",
       "      <td>293864</td>\n",
       "      <td>Self-paced on your time</td>\n",
       "      <td>The University of Michigan</td>\n",
       "      <td>Charles Severance</td>\n",
       "      <td>Introductory</td>\n",
       "      <td>Computer Science</td>\n",
       "      <td>English</td>\n",
       "      <td>English</td>\n",
       "      <td>2–4 hours per week</td>\n",
       "      <td>7</td>\n",
       "      <td>49.0</td>\n",
       "    </tr>\n",
       "    <tr>\n",
       "      <th>2</th>\n",
       "      <td>CS50's Introduction to Computer Science</td>\n",
       "      <td>2442271</td>\n",
       "      <td>Self-paced on your time</td>\n",
       "      <td>Harvard University</td>\n",
       "      <td>David J. Malan-Doug Lloyd-Brian Yu</td>\n",
       "      <td>Introductory</td>\n",
       "      <td>Computer Science</td>\n",
       "      <td>English</td>\n",
       "      <td>English</td>\n",
       "      <td>6–18 hours per week</td>\n",
       "      <td>12</td>\n",
       "      <td>90.0</td>\n",
       "    </tr>\n",
       "    <tr>\n",
       "      <th>3</th>\n",
       "      <td>The Analytics Edge</td>\n",
       "      <td>129555</td>\n",
       "      <td>Instructor-led on a course schedule</td>\n",
       "      <td>Massachusetts Institute of Technology</td>\n",
       "      <td>Dimitris Bertsimas-Allison O'Hair-John Silberh...</td>\n",
       "      <td>Intermediate</td>\n",
       "      <td>Data Analysis &amp; Statistics</td>\n",
       "      <td>English</td>\n",
       "      <td>English</td>\n",
       "      <td>10–15 hours per week</td>\n",
       "      <td>13</td>\n",
       "      <td>199.0</td>\n",
       "    </tr>\n",
       "    <tr>\n",
       "      <th>4</th>\n",
       "      <td>Marketing Analytics: Marketing Measurement Str...</td>\n",
       "      <td>81140</td>\n",
       "      <td>Self-paced on your time</td>\n",
       "      <td>University of California, Berkeley</td>\n",
       "      <td>Stephan Sorger</td>\n",
       "      <td>Introductory</td>\n",
       "      <td>Computer Science</td>\n",
       "      <td>English</td>\n",
       "      <td>English</td>\n",
       "      <td>5–7 hours per week</td>\n",
       "      <td>4</td>\n",
       "      <td>249.0</td>\n",
       "    </tr>\n",
       "  </tbody>\n",
       "</table>\n",
       "</div>"
      ],
      "text/plain": [
       "                                               title  n_enrolled  \\\n",
       "0                                How to Learn Online      124980   \n",
       "1  Programming for Everybody (Getting Started wit...      293864   \n",
       "2            CS50's Introduction to Computer Science     2442271   \n",
       "3                                 The Analytics Edge      129555   \n",
       "4  Marketing Analytics: Marketing Measurement Str...       81140   \n",
       "\n",
       "                           course_type                            institution  \\\n",
       "0              Self-paced on your time                                    edX   \n",
       "1              Self-paced on your time             The University of Michigan   \n",
       "2              Self-paced on your time                     Harvard University   \n",
       "3  Instructor-led on a course schedule  Massachusetts Institute of Technology   \n",
       "4              Self-paced on your time     University of California, Berkeley   \n",
       "\n",
       "                                         instructors         Level  \\\n",
       "0            Nina Huntemann-Robyn Belair-Ben Piscopo  Introductory   \n",
       "1                                  Charles Severance  Introductory   \n",
       "2                 David J. Malan-Doug Lloyd-Brian Yu  Introductory   \n",
       "3  Dimitris Bertsimas-Allison O'Hair-John Silberh...  Intermediate   \n",
       "4                                     Stephan Sorger  Introductory   \n",
       "\n",
       "                        subject language subtitles         course_effort  \\\n",
       "0  Education & Teacher Training  English   English    2–3 hours per week   \n",
       "1              Computer Science  English   English    2–4 hours per week   \n",
       "2              Computer Science  English   English   6–18 hours per week   \n",
       "3    Data Analysis & Statistics  English   English  10–15 hours per week   \n",
       "4              Computer Science  English   English    5–7 hours per week   \n",
       "\n",
       "   course_length  price  \n",
       "0              2   49.0  \n",
       "1              7   49.0  \n",
       "2             12   90.0  \n",
       "3             13  199.0  \n",
       "4              4  249.0  "
      ]
     },
     "execution_count": 14,
     "metadata": {},
     "output_type": "execute_result"
    }
   ],
   "source": [
    "# converting to catgorical columns to save memory and to improve performance\n",
    "edxcourses_df['Level'] = edxcourses_df['Level'].astype('category')\n",
    "edxcourses_df['course_type'] = edxcourses_df['course_type'].astype('category')\n",
    "edxcourses_df.head(5)"
   ]
  },
  {
   "cell_type": "markdown",
   "id": "f6726e0c",
   "metadata": {},
   "source": [
    "### Data Analysis\n",
    "\n",
    "#### Questions to be answered:\n",
    "\n",
    "+ Level:\n",
    "    - How many levels available\n",
    "    - Which level has most courses\n",
    "    - which level has most enrolled\n",
    "    - Max price for each level\n",
    "    - Max course length for each level\n",
    "    \n",
    "+ Subject:\n",
    "    - What are unique subjects and count of them\n",
    "    - How many subjects at each level\n",
    "    - Most popular subjects\n",
    "    - Subject with most titles\n",
    "    \n",
    "+ Title:\n",
    "    - Most popular titles and its features like its price,level,course_type,institution\n",
    "    - Which subject has most popular tiles\n",
    "    \n",
    "+ course_type:\n",
    "    - how many titles in each course type\n",
    "    - avg price for each course type\n",
    "    - which course type is most popular\n",
    "\n",
    "+ price:\n",
    "    - which course type is pricey\n",
    "    - Which institution is pricey\n",
    "    - which level is pricey\n",
    "    - which subject is pricey\n",
    "    \n",
    "    \n",
    "    \n"
   ]
  },
  {
   "cell_type": "markdown",
   "id": "248154ab",
   "metadata": {},
   "source": [
    "### EDA on Edx Dataset"
   ]
  },
  {
   "cell_type": "markdown",
   "id": "bc8add1e",
   "metadata": {},
   "source": [
    "#### Analysing Levels\n",
    "+ Level:\n",
    "    - How many levels available\n",
    "    - Which level has most courses\n",
    "    - which level has most enrolled\n",
    "    - Max price for each level\n",
    "    - Max course length for each level"
   ]
  },
  {
   "cell_type": "code",
   "execution_count": 36,
   "id": "af5af1d9",
   "metadata": {},
   "outputs": [
    {
     "data": {
      "text/plain": [
       "['Introductory', 'Intermediate', 'Advanced']\n",
       "Categories (3, object): ['Advanced', 'Intermediate', 'Introductory']"
      ]
     },
     "execution_count": 36,
     "metadata": {},
     "output_type": "execute_result"
    }
   ],
   "source": [
    "edxcourses_df['Level'].unique() \n",
    "# 3 levels of courses"
   ]
  },
  {
   "cell_type": "code",
   "execution_count": 19,
   "id": "cb5544ce",
   "metadata": {},
   "outputs": [
    {
     "data": {
      "text/plain": [
       "Introductory    621\n",
       "Intermediate    267\n",
       "Advanced         87\n",
       "Name: Level, dtype: int64"
      ]
     },
     "execution_count": 19,
     "metadata": {},
     "output_type": "execute_result"
    }
   ],
   "source": [
    "edxcourses_df['Level'].value_counts()\n",
    "# Most courses seems to be introductory"
   ]
  },
  {
   "cell_type": "code",
   "execution_count": 44,
   "id": "3331fe34",
   "metadata": {
    "scrolled": true
   },
   "outputs": [
    {
     "data": {
      "text/plain": [
       "Level\n",
       "Introductory    32379441\n",
       "Intermediate    10159138\n",
       "Advanced         2999021\n",
       "Name: n_enrolled, dtype: int32"
      ]
     },
     "execution_count": 44,
     "metadata": {},
     "output_type": "execute_result"
    }
   ],
   "source": [
    "# which level has most enrolled\n",
    "grp_level=edxcourses_df.groupby('Level')\n",
    "grp_level.sum()['n_enrolled'].sort_values(ascending=False)"
   ]
  },
  {
   "cell_type": "code",
   "execution_count": 51,
   "id": "1ddf8491",
   "metadata": {},
   "outputs": [
    {
     "data": {
      "text/html": [
       "<div>\n",
       "<style scoped>\n",
       "    .dataframe tbody tr th:only-of-type {\n",
       "        vertical-align: middle;\n",
       "    }\n",
       "\n",
       "    .dataframe tbody tr th {\n",
       "        vertical-align: top;\n",
       "    }\n",
       "\n",
       "    .dataframe thead th {\n",
       "        text-align: right;\n",
       "    }\n",
       "</style>\n",
       "<table border=\"1\" class=\"dataframe\">\n",
       "  <thead>\n",
       "    <tr style=\"text-align: right;\">\n",
       "      <th></th>\n",
       "      <th>n_enrolled</th>\n",
       "      <th>course_length</th>\n",
       "      <th>price</th>\n",
       "    </tr>\n",
       "    <tr>\n",
       "      <th>Level</th>\n",
       "      <th></th>\n",
       "      <th></th>\n",
       "      <th></th>\n",
       "    </tr>\n",
       "  </thead>\n",
       "  <tbody>\n",
       "    <tr>\n",
       "      <th>Advanced</th>\n",
       "      <td>34471.505747</td>\n",
       "      <td>8.160920</td>\n",
       "      <td>185.988161</td>\n",
       "    </tr>\n",
       "    <tr>\n",
       "      <th>Intermediate</th>\n",
       "      <td>38049.205993</td>\n",
       "      <td>7.033708</td>\n",
       "      <td>99.606330</td>\n",
       "    </tr>\n",
       "    <tr>\n",
       "      <th>Introductory</th>\n",
       "      <td>52140.806763</td>\n",
       "      <td>6.360709</td>\n",
       "      <td>88.853462</td>\n",
       "    </tr>\n",
       "  </tbody>\n",
       "</table>\n",
       "</div>"
      ],
      "text/plain": [
       "                n_enrolled  course_length       price\n",
       "Level                                                \n",
       "Advanced      34471.505747       8.160920  185.988161\n",
       "Intermediate  38049.205993       7.033708   99.606330\n",
       "Introductory  52140.806763       6.360709   88.853462"
      ]
     },
     "execution_count": 51,
     "metadata": {},
     "output_type": "execute_result"
    }
   ],
   "source": [
    "grp_level.mean()"
   ]
  },
  {
   "cell_type": "code",
   "execution_count": 49,
   "id": "f3e04a5a",
   "metadata": {
    "scrolled": true
   },
   "outputs": [
    {
     "data": {
      "text/plain": [
       "Level\n",
       "Advanced        450.0\n",
       "Intermediate    299.0\n",
       "Introductory    399.6\n",
       "Name: price, dtype: float64"
      ]
     },
     "execution_count": 49,
     "metadata": {},
     "output_type": "execute_result"
    }
   ],
   "source": [
    "#Max price for each level\n",
    "grp_level[['price',''].max()"
   ]
  },
  {
   "cell_type": "code",
   "execution_count": 57,
   "id": "542c4003",
   "metadata": {},
   "outputs": [
    {
     "data": {
      "image/png": "[encoded data removed]",
      "text/plain": [
       "<Figure size 432x288 with 1 Axes>"
      ]
     },
     "metadata": {
      "needs_background": "light"
     },
     "output_type": "display_data"
    }
   ],
   "source": [
    "grp_level['price'].max().plot(kind='bar');"
   ]
  },
  {
   "cell_type": "code",
   "execution_count": 53,
   "id": "4ebb129b",
   "metadata": {
    "scrolled": true
   },
   "outputs": [
    {
     "data": {
      "image/png": "[encoded data removed]",
      "text/plain": [
       "<Figure size 720x360 with 1 Axes>"
      ]
     },
     "metadata": {},
     "output_type": "display_data"
    }
   ],
   "source": [
    "# Plot Distribution of courses in each level with Pie Chart\n",
    "plt.figure(figsize=(10,5))\n",
    "edxcourses_df['Level'].value_counts().plot(kind='pie')\n",
    "plt.show()"
   ]
  },
  {
   "cell_type": "markdown",
   "id": "4bd97ca9",
   "metadata": {},
   "source": [
    "+ Analysis:\n",
    "    - Introductory courses are most popular and has more courses then comes the intermediate level and finally Advanced level.\n",
    "    - Advanced courses are pricey compared to other levels."
   ]
  },
  {
   "cell_type": "code",
   "execution_count": 67,
   "id": "28cfb0c8",
   "metadata": {},
   "outputs": [
    {
     "data": {
      "text/plain": [
       "Level         subject              \n",
       "Introductory  Computer Science         100\n",
       "              Business & Management     98\n",
       "              Humanities                59\n",
       "Intermediate  Business & Management     55\n",
       "              Computer Science          51\n",
       "                                      ... \n",
       "Advanced      Language                   1\n",
       "              Humanities                 1\n",
       "              Environmental Studies      1\n",
       "              Communication              1\n",
       "Introductory  Philanthropy               1\n",
       "Name: subject, Length: 70, dtype: int64"
      ]
     },
     "execution_count": 67,
     "metadata": {},
     "output_type": "execute_result"
    }
   ],
   "source": [
    "edxcourses_df.groupby('Level')['subject'].value_counts().sort_values(ascending=False)"
   ]
  },
  {
   "cell_type": "markdown",
   "id": "e430db31",
   "metadata": {},
   "source": [
    "#### EDA on Subject:\n",
    "+ Subject:\n",
    "    - What are unique subjects and count of them\n",
    "    - How many subjects at each level\n",
    "    - Most popular subjects\n",
    "    - Subject with most titles"
   ]
  },
  {
   "cell_type": "code",
   "execution_count": 125,
   "id": "0df60a05",
   "metadata": {},
   "outputs": [
    {
     "data": {
      "text/plain": [
       "array(['Education & Teacher Training', 'Computer Science',\n",
       "       'Data Analysis & Statistics', 'Business & Management',\n",
       "       'Communication', 'Health & Safety', 'Math', 'Humanities', 'Ethics',\n",
       "       'Economics & Finance', 'Food & Nutrition',\n",
       "       'Biology & Life Sciences', 'Social Sciences', 'Architecture',\n",
       "       'Medicine', 'Environmental Studies', 'Chemistry', 'Art & Culture',\n",
       "       'Language', 'Engineering', 'Philosophy & Ethics', 'Electronics',\n",
       "       'History', 'Literature', 'Physics', 'Law', 'Design', 'Science',\n",
       "       'Music', 'Energy & Earth Sciences', 'Philanthropy'], dtype=object)"
      ]
     },
     "execution_count": 125,
     "metadata": {},
     "output_type": "execute_result"
    }
   ],
   "source": [
    "edxcourses_df['subject'].unique()"
   ]
  },
  {
   "cell_type": "code",
   "execution_count": 108,
   "id": "5a1d5c27",
   "metadata": {
    "scrolled": false
   },
   "outputs": [
    {
     "data": {
      "text/plain": [
       "Computer Science              166\n",
       "Business & Management         164\n",
       "Data Analysis & Statistics     72\n",
       "Humanities                     64\n",
       "Engineering                    58\n",
       "Name: subject, dtype: int64"
      ]
     },
     "execution_count": 108,
     "metadata": {},
     "output_type": "execute_result"
    }
   ],
   "source": [
    "Max_titled_subject=edxcourses_df['subject'].value_counts(sort=True).head(5)\n",
    "Max_titled_subject\n",
    "#Computer Science and Business Management subjects are most courses"
   ]
  },
  {
   "cell_type": "code",
   "execution_count": 113,
   "id": "8bf4f3e3",
   "metadata": {},
   "outputs": [
    {
     "data": {
      "image/png": "[encoded data removed]",
      "text/plain": [
       "<Figure size 432x288 with 1 Axes>"
      ]
     },
     "metadata": {
      "needs_background": "light"
     },
     "output_type": "display_data"
    }
   ],
   "source": [
    "Max_titled_subject.plot(kind='bar');"
   ]
  },
  {
   "cell_type": "markdown",
   "id": "d17b2d40",
   "metadata": {},
   "source": [
    "- computer science and Business & Management seems to have more courses compared to other fields and then comes Data analysis and statistics."
   ]
  },
  {
   "cell_type": "code",
   "execution_count": 110,
   "id": "2d68ded5",
   "metadata": {
    "scrolled": true
   },
   "outputs": [
    {
     "data": {
      "text/plain": [
       "subject\n",
       "Computer Science              12447737\n",
       "Business & Management          7076563\n",
       "Communication                  4641327\n",
       "Data Analysis & Statistics     4264412\n",
       "Humanities                     3504140\n",
       "Name: n_enrolled, dtype: int32"
      ]
     },
     "execution_count": 110,
     "metadata": {},
     "output_type": "execute_result"
    }
   ],
   "source": [
    "pop_courses=subject_group.sum()['n_enrolled'].sort_values(ascending=False).head(5)\n",
    "pop_courses"
   ]
  },
  {
   "cell_type": "code",
   "execution_count": 114,
   "id": "9333a854",
   "metadata": {},
   "outputs": [
    {
     "data": {
      "image/png": "[encoded data removed]",
      "text/plain": [
       "<Figure size 432x288 with 1 Axes>"
      ]
     },
     "metadata": {
      "needs_background": "light"
     },
     "output_type": "display_data"
    }
   ],
   "source": [
    "pop_courses.plot(kind='bar');"
   ]
  },
  {
   "cell_type": "code",
   "execution_count": 124,
   "id": "3c0d1ff6",
   "metadata": {},
   "outputs": [
    {
     "data": {
      "text/plain": [
       "<AxesSubplot:xlabel='subject'>"
      ]
     },
     "execution_count": 124,
     "metadata": {},
     "output_type": "execute_result"
    },
    {
     "data": {
      "image/png": "[encoded data removed]",
      "text/plain": [
       "<Figure size 864x360 with 2 Axes>"
      ]
     },
     "metadata": {
      "needs_background": "light"
     },
     "output_type": "display_data"
    }
   ],
   "source": [
    "fig, axarr = plt.subplots(1, 2, figsize=(12, 5))\n",
    "Max_titled_subject.plot.bar(\n",
    "    ax=axarr[0]\n",
    ")\n",
    "pop_courses.plot.bar(\n",
    "    ax=axarr[1]\n",
    ")"
   ]
  },
  {
   "cell_type": "markdown",
   "id": "e774ca4e",
   "metadata": {},
   "source": [
    "- Computer Science and Business & Management have more courses and are popular.\n",
    "- Even though communications has few courses, it seems to be more popular in EDX compared to Data Analysis & statistics"
   ]
  },
  {
   "cell_type": "code",
   "execution_count": 227,
   "id": "1910002f",
   "metadata": {
    "scrolled": true
   },
   "outputs": [
    {
     "data": {
      "text/plain": [
       "subject                                 \n",
       "Business & Management       Introductory     98\n",
       "                            Intermediate     55\n",
       "                            Advanced         11\n",
       "Communication               Introductory     31\n",
       "                            Intermediate      7\n",
       "                            Advanced          1\n",
       "Computer Science            Introductory    100\n",
       "                            Intermediate     51\n",
       "                            Advanced         15\n",
       "Data Analysis & Statistics  Introductory     38\n",
       "                            Intermediate     21\n",
       "                            Advanced         13\n",
       "Engineering                 Introductory     22\n",
       "                            Advanced         20\n",
       "                            Intermediate     16\n",
       "Humanities                  Introductory     59\n",
       "                            Intermediate      4\n",
       "                            Advanced          1\n",
       "Name: Level, dtype: int64"
      ]
     },
     "execution_count": 227,
     "metadata": {},
     "output_type": "execute_result"
    }
   ],
   "source": [
    "#Lets explore more about the popular courses\n",
    "lst=list(pop_courses.index)\n",
    "lst.append('Engineering') # to observe all the popular courses among n_enrolled and titles\n",
    "df=edxcourses_df[edxcourses_df['subject'].isin(lst)].groupby('subject')['Level'].value_counts()\n",
    "df"
   ]
  },
  {
   "cell_type": "code",
   "execution_count": 228,
   "id": "ec17423c",
   "metadata": {},
   "outputs": [],
   "source": [
    "df=df.reset_index()"
   ]
  },
  {
   "cell_type": "code",
   "execution_count": 229,
   "id": "fd22457a",
   "metadata": {},
   "outputs": [
    {
     "data": {
      "text/html": [
       "<div>\n",
       "<style scoped>\n",
       "    .dataframe tbody tr th:only-of-type {\n",
       "        vertical-align: middle;\n",
       "    }\n",
       "\n",
       "    .dataframe tbody tr th {\n",
       "        vertical-align: top;\n",
       "    }\n",
       "\n",
       "    .dataframe thead th {\n",
       "        text-align: right;\n",
       "    }\n",
       "</style>\n",
       "<table border=\"1\" class=\"dataframe\">\n",
       "  <thead>\n",
       "    <tr style=\"text-align: right;\">\n",
       "      <th></th>\n",
       "      <th>subject</th>\n",
       "      <th>level_1</th>\n",
       "      <th>Level</th>\n",
       "    </tr>\n",
       "  </thead>\n",
       "  <tbody>\n",
       "    <tr>\n",
       "      <th>0</th>\n",
       "      <td>Business &amp; Management</td>\n",
       "      <td>Introductory</td>\n",
       "      <td>98</td>\n",
       "    </tr>\n",
       "    <tr>\n",
       "      <th>1</th>\n",
       "      <td>Business &amp; Management</td>\n",
       "      <td>Intermediate</td>\n",
       "      <td>55</td>\n",
       "    </tr>\n",
       "    <tr>\n",
       "      <th>2</th>\n",
       "      <td>Business &amp; Management</td>\n",
       "      <td>Advanced</td>\n",
       "      <td>11</td>\n",
       "    </tr>\n",
       "    <tr>\n",
       "      <th>3</th>\n",
       "      <td>Communication</td>\n",
       "      <td>Introductory</td>\n",
       "      <td>31</td>\n",
       "    </tr>\n",
       "    <tr>\n",
       "      <th>4</th>\n",
       "      <td>Communication</td>\n",
       "      <td>Intermediate</td>\n",
       "      <td>7</td>\n",
       "    </tr>\n",
       "    <tr>\n",
       "      <th>5</th>\n",
       "      <td>Communication</td>\n",
       "      <td>Advanced</td>\n",
       "      <td>1</td>\n",
       "    </tr>\n",
       "    <tr>\n",
       "      <th>6</th>\n",
       "      <td>Computer Science</td>\n",
       "      <td>Introductory</td>\n",
       "      <td>100</td>\n",
       "    </tr>\n",
       "    <tr>\n",
       "      <th>7</th>\n",
       "      <td>Computer Science</td>\n",
       "      <td>Intermediate</td>\n",
       "      <td>51</td>\n",
       "    </tr>\n",
       "    <tr>\n",
       "      <th>8</th>\n",
       "      <td>Computer Science</td>\n",
       "      <td>Advanced</td>\n",
       "      <td>15</td>\n",
       "    </tr>\n",
       "    <tr>\n",
       "      <th>9</th>\n",
       "      <td>Data Analysis &amp; Statistics</td>\n",
       "      <td>Introductory</td>\n",
       "      <td>38</td>\n",
       "    </tr>\n",
       "    <tr>\n",
       "      <th>10</th>\n",
       "      <td>Data Analysis &amp; Statistics</td>\n",
       "      <td>Intermediate</td>\n",
       "      <td>21</td>\n",
       "    </tr>\n",
       "    <tr>\n",
       "      <th>11</th>\n",
       "      <td>Data Analysis &amp; Statistics</td>\n",
       "      <td>Advanced</td>\n",
       "      <td>13</td>\n",
       "    </tr>\n",
       "    <tr>\n",
       "      <th>12</th>\n",
       "      <td>Engineering</td>\n",
       "      <td>Introductory</td>\n",
       "      <td>22</td>\n",
       "    </tr>\n",
       "    <tr>\n",
       "      <th>13</th>\n",
       "      <td>Engineering</td>\n",
       "      <td>Advanced</td>\n",
       "      <td>20</td>\n",
       "    </tr>\n",
       "    <tr>\n",
       "      <th>14</th>\n",
       "      <td>Engineering</td>\n",
       "      <td>Intermediate</td>\n",
       "      <td>16</td>\n",
       "    </tr>\n",
       "    <tr>\n",
       "      <th>15</th>\n",
       "      <td>Humanities</td>\n",
       "      <td>Introductory</td>\n",
       "      <td>59</td>\n",
       "    </tr>\n",
       "    <tr>\n",
       "      <th>16</th>\n",
       "      <td>Humanities</td>\n",
       "      <td>Intermediate</td>\n",
       "      <td>4</td>\n",
       "    </tr>\n",
       "    <tr>\n",
       "      <th>17</th>\n",
       "      <td>Humanities</td>\n",
       "      <td>Advanced</td>\n",
       "      <td>1</td>\n",
       "    </tr>\n",
       "  </tbody>\n",
       "</table>\n",
       "</div>"
      ],
      "text/plain": [
       "                       subject       level_1  Level\n",
       "0        Business & Management  Introductory     98\n",
       "1        Business & Management  Intermediate     55\n",
       "2        Business & Management      Advanced     11\n",
       "3                Communication  Introductory     31\n",
       "4                Communication  Intermediate      7\n",
       "5                Communication      Advanced      1\n",
       "6             Computer Science  Introductory    100\n",
       "7             Computer Science  Intermediate     51\n",
       "8             Computer Science      Advanced     15\n",
       "9   Data Analysis & Statistics  Introductory     38\n",
       "10  Data Analysis & Statistics  Intermediate     21\n",
       "11  Data Analysis & Statistics      Advanced     13\n",
       "12                 Engineering  Introductory     22\n",
       "13                 Engineering      Advanced     20\n",
       "14                 Engineering  Intermediate     16\n",
       "15                  Humanities  Introductory     59\n",
       "16                  Humanities  Intermediate      4\n",
       "17                  Humanities      Advanced      1"
      ]
     },
     "execution_count": 229,
     "metadata": {},
     "output_type": "execute_result"
    }
   ],
   "source": [
    "#df=df.drop(columns=['level_0','index'],axis=1)\n",
    "df"
   ]
  },
  {
   "cell_type": "code",
   "execution_count": 230,
   "id": "a8fb0200",
   "metadata": {},
   "outputs": [
    {
     "data": {
      "image/png": "[encoded data removed]",
      "text/plain": [
       "<Figure size 576x360 with 1 Axes>"
      ]
     },
     "metadata": {
      "needs_background": "light"
     },
     "output_type": "display_data"
    }
   ],
   "source": [
    "# Using Seaborn \n",
    "plt.figure(figsize=(8,5))\n",
    "sns.barplot(x='subject',y='Level', hue='level_1',data=df,ci=None)\n",
    "plt.xticks(rotation=45)\n",
    "plt.show()"
   ]
  },
  {
   "cell_type": "code",
   "execution_count": 284,
   "id": "ffad8722",
   "metadata": {},
   "outputs": [
    {
     "data": {
      "image/png": "[encoded data removed]",
      "text/plain": [
       "<Figure size 432x288 with 1 Axes>"
      ]
     },
     "metadata": {
      "needs_background": "light"
     },
     "output_type": "display_data"
    }
   ],
   "source": [
    "#percentage of n_enrolled in top 10 subjects\n",
    "(100*(edxcourses_df.groupby('subject')['n_enrolled'].sum())/edxcourses_df['n_enrolled'].sum()).plot(kind='bar');"
   ]
  },
  {
   "cell_type": "code",
   "execution_count": 304,
   "id": "41fd4770",
   "metadata": {},
   "outputs": [
    {
     "data": {
      "text/plain": [
       "<AxesSubplot:xlabel='subject'>"
      ]
     },
     "execution_count": 304,
     "metadata": {},
     "output_type": "execute_result"
    },
    {
     "data": {
      "image/png": "[encoded data removed]",
      "text/plain": [
       "<Figure size 432x288 with 1 Axes>"
      ]
     },
     "metadata": {
      "needs_background": "light"
     },
     "output_type": "display_data"
    }
   ],
   "source": [
    "#percentage of price in top 10 subjects\n",
    "(100*(edxcourses_df.groupby('subject')['price'].sum())/edxcourses_df['price'].sum()).plot(kind='bar')"
   ]
  },
  {
   "cell_type": "code",
   "execution_count": 239,
   "id": "95aae027",
   "metadata": {
    "scrolled": false
   },
   "outputs": [
    {
     "data": {
      "text/html": [
       "<div>\n",
       "<style scoped>\n",
       "    .dataframe tbody tr th:only-of-type {\n",
       "        vertical-align: middle;\n",
       "    }\n",
       "\n",
       "    .dataframe tbody tr th {\n",
       "        vertical-align: top;\n",
       "    }\n",
       "\n",
       "    .dataframe thead th {\n",
       "        text-align: right;\n",
       "    }\n",
       "</style>\n",
       "<table border=\"1\" class=\"dataframe\">\n",
       "  <thead>\n",
       "    <tr style=\"text-align: right;\">\n",
       "      <th></th>\n",
       "      <th>title</th>\n",
       "      <th>n_enrolled</th>\n",
       "      <th>course_type</th>\n",
       "      <th>institution</th>\n",
       "      <th>instructors</th>\n",
       "      <th>Level</th>\n",
       "      <th>subject</th>\n",
       "      <th>language</th>\n",
       "      <th>subtitles</th>\n",
       "      <th>course_effort</th>\n",
       "      <th>course_length</th>\n",
       "      <th>price</th>\n",
       "    </tr>\n",
       "  </thead>\n",
       "  <tbody>\n",
       "    <tr>\n",
       "      <th>29</th>\n",
       "      <td>IELTS Academic Test Preparation</td>\n",
       "      <td>1103777</td>\n",
       "      <td>Self-paced on your time</td>\n",
       "      <td>The University of Queensland</td>\n",
       "      <td>Iain Mathieson-Martin Dutton-Megan Yucel-Steph...</td>\n",
       "      <td>Introductory</td>\n",
       "      <td>Communication</td>\n",
       "      <td>English</td>\n",
       "      <td>English</td>\n",
       "      <td>5–10 hours per week</td>\n",
       "      <td>8</td>\n",
       "      <td>99.0</td>\n",
       "    </tr>\n",
       "    <tr>\n",
       "      <th>31</th>\n",
       "      <td>TOEFL® Test Preparation: The Insider’s Guide</td>\n",
       "      <td>1022489</td>\n",
       "      <td>Self-paced on your time</td>\n",
       "      <td>Educational Testing Service</td>\n",
       "      <td>Michael Knab-Cynthia Newman-Shawn Gorman-Molly...</td>\n",
       "      <td>Introductory</td>\n",
       "      <td>Communication</td>\n",
       "      <td>English</td>\n",
       "      <td>English</td>\n",
       "      <td>2–4 hours per week</td>\n",
       "      <td>6</td>\n",
       "      <td>49.0</td>\n",
       "    </tr>\n",
       "    <tr>\n",
       "      <th>35</th>\n",
       "      <td>Basic Spanish 1: Getting Started</td>\n",
       "      <td>400169</td>\n",
       "      <td>Self-paced on your time</td>\n",
       "      <td>Universitat Politècnica de Valencia</td>\n",
       "      <td>Prof. Ana Gimeno-Virginia González-Cristina Na...</td>\n",
       "      <td>Introductory</td>\n",
       "      <td>Communication</td>\n",
       "      <td>English</td>\n",
       "      <td>English, Español</td>\n",
       "      <td>4–5 hours per week</td>\n",
       "      <td>7</td>\n",
       "      <td>40.0</td>\n",
       "    </tr>\n",
       "    <tr>\n",
       "      <th>74</th>\n",
       "      <td>Academic and Business Writing</td>\n",
       "      <td>322701</td>\n",
       "      <td>Self-paced on your time</td>\n",
       "      <td>University of California, Berkeley</td>\n",
       "      <td>Maggie Sokolik</td>\n",
       "      <td>Introductory</td>\n",
       "      <td>Communication</td>\n",
       "      <td>English</td>\n",
       "      <td>English</td>\n",
       "      <td>3–5 hours per week</td>\n",
       "      <td>6</td>\n",
       "      <td>49.0</td>\n",
       "    </tr>\n",
       "    <tr>\n",
       "      <th>142</th>\n",
       "      <td>生活英语听说 | Conversational English Skills</td>\n",
       "      <td>301585</td>\n",
       "      <td>Self-paced on your time</td>\n",
       "      <td>Tsinghua University</td>\n",
       "      <td>Wenxia Zhang-Fang Yang-Glenn M. Davis-Thomas H...</td>\n",
       "      <td>Introductory</td>\n",
       "      <td>Communication</td>\n",
       "      <td>English</td>\n",
       "      <td>English</td>\n",
       "      <td>2–4 hours per week</td>\n",
       "      <td>10</td>\n",
       "      <td>49.0</td>\n",
       "    </tr>\n",
       "  </tbody>\n",
       "</table>\n",
       "</div>"
      ],
      "text/plain": [
       "                                            title  n_enrolled  \\\n",
       "29                IELTS Academic Test Preparation     1103777   \n",
       "31   TOEFL® Test Preparation: The Insider’s Guide     1022489   \n",
       "35               Basic Spanish 1: Getting Started      400169   \n",
       "74                  Academic and Business Writing      322701   \n",
       "142        生活英语听说 | Conversational English Skills      301585   \n",
       "\n",
       "                 course_type                          institution  \\\n",
       "29   Self-paced on your time         The University of Queensland   \n",
       "31   Self-paced on your time          Educational Testing Service   \n",
       "35   Self-paced on your time  Universitat Politècnica de Valencia   \n",
       "74   Self-paced on your time   University of California, Berkeley   \n",
       "142  Self-paced on your time                  Tsinghua University   \n",
       "\n",
       "                                           instructors         Level  \\\n",
       "29   Iain Mathieson-Martin Dutton-Megan Yucel-Steph...  Introductory   \n",
       "31   Michael Knab-Cynthia Newman-Shawn Gorman-Molly...  Introductory   \n",
       "35   Prof. Ana Gimeno-Virginia González-Cristina Na...  Introductory   \n",
       "74                                      Maggie Sokolik  Introductory   \n",
       "142  Wenxia Zhang-Fang Yang-Glenn M. Davis-Thomas H...  Introductory   \n",
       "\n",
       "           subject language         subtitles        course_effort  \\\n",
       "29   Communication  English           English  5–10 hours per week   \n",
       "31   Communication  English           English   2–4 hours per week   \n",
       "35   Communication  English  English, Español   4–5 hours per week   \n",
       "74   Communication  English           English   3–5 hours per week   \n",
       "142  Communication  English           English   2–4 hours per week   \n",
       "\n",
       "     course_length  price  \n",
       "29               8   99.0  \n",
       "31               6   49.0  \n",
       "35               7   40.0  \n",
       "74               6   49.0  \n",
       "142             10   49.0  "
      ]
     },
     "execution_count": 239,
     "metadata": {},
     "output_type": "execute_result"
    }
   ],
   "source": [
    "com_courses=edxcourses_df[(edxcourses_df['subject']=='Communication')& \n",
    "                       (edxcourses_df['n_enrolled']!=0)].sort_values('n_enrolled',ascending=False).head(5)\n",
    "com_courses"
   ]
  },
  {
   "cell_type": "code",
   "execution_count": 289,
   "id": "73499870",
   "metadata": {},
   "outputs": [
    {
     "data": {
      "text/plain": [
       "<AxesSubplot:xlabel='n_enrolled', ylabel='title'>"
      ]
     },
     "execution_count": 289,
     "metadata": {},
     "output_type": "execute_result"
    },
    {
     "data": {
      "image/png": "[encoded data removed]",
      "text/plain": [
       "<Figure size 432x288 with 1 Axes>"
      ]
     },
     "metadata": {
      "needs_background": "light"
     },
     "output_type": "display_data"
    }
   ],
   "source": [
    "# Hide All Warnings\n",
    "import warnings\n",
    "warnings.filterwarnings('ignore')\n",
    "sns.barplot(x = 'n_enrolled', y = 'title', data = com_courses)"
   ]
  },
  {
   "cell_type": "markdown",
   "id": "f4cd1cf4",
   "metadata": {},
   "source": [
    "- Top 5 courses in communication IELTS Academic Test Preparation and TOEFL test preparation titles are more popular in communications course"
   ]
  },
  {
   "cell_type": "code",
   "execution_count": 253,
   "id": "5548a073",
   "metadata": {},
   "outputs": [
    {
     "data": {
      "text/html": [
       "<div>\n",
       "<style scoped>\n",
       "    .dataframe tbody tr th:only-of-type {\n",
       "        vertical-align: middle;\n",
       "    }\n",
       "\n",
       "    .dataframe tbody tr th {\n",
       "        vertical-align: top;\n",
       "    }\n",
       "\n",
       "    .dataframe thead th {\n",
       "        text-align: right;\n",
       "    }\n",
       "</style>\n",
       "<table border=\"1\" class=\"dataframe\">\n",
       "  <thead>\n",
       "    <tr style=\"text-align: right;\">\n",
       "      <th></th>\n",
       "      <th>title</th>\n",
       "      <th>n_enrolled</th>\n",
       "      <th>course_type</th>\n",
       "      <th>institution</th>\n",
       "      <th>instructors</th>\n",
       "      <th>Level</th>\n",
       "      <th>subject</th>\n",
       "      <th>language</th>\n",
       "      <th>subtitles</th>\n",
       "      <th>course_effort</th>\n",
       "      <th>course_length</th>\n",
       "      <th>price</th>\n",
       "    </tr>\n",
       "  </thead>\n",
       "  <tbody>\n",
       "    <tr>\n",
       "      <th>24</th>\n",
       "      <td>Contract Law: From Trust to Promise to Contract</td>\n",
       "      <td>414181</td>\n",
       "      <td>Self-paced on your time</td>\n",
       "      <td>Harvard University</td>\n",
       "      <td>Charles Fried</td>\n",
       "      <td>Intermediate</td>\n",
       "      <td>Business &amp; Management</td>\n",
       "      <td>English</td>\n",
       "      <td>English</td>\n",
       "      <td>3–6 hours per week</td>\n",
       "      <td>8</td>\n",
       "      <td>125.0</td>\n",
       "    </tr>\n",
       "    <tr>\n",
       "      <th>249</th>\n",
       "      <td>The Science of Everyday Thinking</td>\n",
       "      <td>318399</td>\n",
       "      <td>Self-paced on your time</td>\n",
       "      <td>The University of Queensland</td>\n",
       "      <td>Emma MacKenzie-Jason Tangen-Matthew Thompson</td>\n",
       "      <td>Introductory</td>\n",
       "      <td>Business &amp; Management</td>\n",
       "      <td>English</td>\n",
       "      <td>English</td>\n",
       "      <td>2–3 hours per week</td>\n",
       "      <td>12</td>\n",
       "      <td>99.0</td>\n",
       "    </tr>\n",
       "    <tr>\n",
       "      <th>150</th>\n",
       "      <td>Gestión de Proyectos de Desarrollo</td>\n",
       "      <td>306286</td>\n",
       "      <td>Self-paced on your time</td>\n",
       "      <td>Inter-American Development Bank</td>\n",
       "      <td>Ernesto Mondelo-Claudia Baca</td>\n",
       "      <td>Introductory</td>\n",
       "      <td>Business &amp; Management</td>\n",
       "      <td>Español</td>\n",
       "      <td>Español</td>\n",
       "      <td>3–4 hours per week</td>\n",
       "      <td>10</td>\n",
       "      <td>49.0</td>\n",
       "    </tr>\n",
       "    <tr>\n",
       "      <th>5</th>\n",
       "      <td>Introduction to Project Management</td>\n",
       "      <td>301793</td>\n",
       "      <td>Self-paced on your time</td>\n",
       "      <td>University of Adelaide</td>\n",
       "      <td>Frank Schultmann-Noel Lindsay-Anton Jordaan-Jo...</td>\n",
       "      <td>Introductory</td>\n",
       "      <td>Business &amp; Management</td>\n",
       "      <td>English</td>\n",
       "      <td>English</td>\n",
       "      <td>2–3 hours per week</td>\n",
       "      <td>6</td>\n",
       "      <td>199.0</td>\n",
       "    </tr>\n",
       "    <tr>\n",
       "      <th>161</th>\n",
       "      <td>Introduction to Marketing</td>\n",
       "      <td>169126</td>\n",
       "      <td>Self-paced on your time</td>\n",
       "      <td>University of British Columbia</td>\n",
       "      <td>Darren Dahl-Paul Cubbon</td>\n",
       "      <td>Introductory</td>\n",
       "      <td>Business &amp; Management</td>\n",
       "      <td>English</td>\n",
       "      <td>English</td>\n",
       "      <td>3–5 hours per week</td>\n",
       "      <td>6</td>\n",
       "      <td>150.0</td>\n",
       "    </tr>\n",
       "  </tbody>\n",
       "</table>\n",
       "</div>"
      ],
      "text/plain": [
       "                                               title  n_enrolled  \\\n",
       "24   Contract Law: From Trust to Promise to Contract      414181   \n",
       "249                 The Science of Everyday Thinking      318399   \n",
       "150               Gestión de Proyectos de Desarrollo      306286   \n",
       "5                 Introduction to Project Management      301793   \n",
       "161                        Introduction to Marketing      169126   \n",
       "\n",
       "                 course_type                      institution  \\\n",
       "24   Self-paced on your time               Harvard University   \n",
       "249  Self-paced on your time     The University of Queensland   \n",
       "150  Self-paced on your time  Inter-American Development Bank   \n",
       "5    Self-paced on your time           University of Adelaide   \n",
       "161  Self-paced on your time   University of British Columbia   \n",
       "\n",
       "                                           instructors         Level  \\\n",
       "24                                       Charles Fried  Intermediate   \n",
       "249       Emma MacKenzie-Jason Tangen-Matthew Thompson  Introductory   \n",
       "150                       Ernesto Mondelo-Claudia Baca  Introductory   \n",
       "5    Frank Schultmann-Noel Lindsay-Anton Jordaan-Jo...  Introductory   \n",
       "161                            Darren Dahl-Paul Cubbon  Introductory   \n",
       "\n",
       "                   subject language subtitles       course_effort  \\\n",
       "24   Business & Management  English   English  3–6 hours per week   \n",
       "249  Business & Management  English   English  2–3 hours per week   \n",
       "150  Business & Management  Español   Español  3–4 hours per week   \n",
       "5    Business & Management  English   English  2–3 hours per week   \n",
       "161  Business & Management  English   English  3–5 hours per week   \n",
       "\n",
       "     course_length  price  \n",
       "24               8  125.0  \n",
       "249             12   99.0  \n",
       "150             10   49.0  \n",
       "5                6  199.0  \n",
       "161              6  150.0  "
      ]
     },
     "execution_count": 253,
     "metadata": {},
     "output_type": "execute_result"
    }
   ],
   "source": [
    "temp_df=edxcourses_df[(edxcourses_df['subject']=='Business & Management') & \n",
    "                       (edxcourses_df['n_enrolled']!=0)].sort_values('n_enrolled',ascending=False).head(5)\n",
    "temp_df"
   ]
  },
  {
   "cell_type": "code",
   "execution_count": 288,
   "id": "34edc328",
   "metadata": {},
   "outputs": [
    {
     "data": {
      "text/plain": [
       "<AxesSubplot:xlabel='n_enrolled', ylabel='title'>"
      ]
     },
     "execution_count": 288,
     "metadata": {},
     "output_type": "execute_result"
    },
    {
     "data": {
      "image/png": "[encoded data removed]",
      "text/plain": [
       "<Figure size 432x288 with 1 Axes>"
      ]
     },
     "metadata": {
      "needs_background": "light"
     },
     "output_type": "display_data"
    }
   ],
   "source": [
    "sns.barplot(x = 'n_enrolled', y = 'title', data = temp_df)"
   ]
  },
  {
   "cell_type": "markdown",
   "id": "697da7b7",
   "metadata": {},
   "source": [
    "- These are the top 5 titles in Business and Management"
   ]
  },
  {
   "cell_type": "code",
   "execution_count": 247,
   "id": "233d3f96",
   "metadata": {},
   "outputs": [
    {
     "data": {
      "text/html": [
       "<div>\n",
       "<style scoped>\n",
       "    .dataframe tbody tr th:only-of-type {\n",
       "        vertical-align: middle;\n",
       "    }\n",
       "\n",
       "    .dataframe tbody tr th {\n",
       "        vertical-align: top;\n",
       "    }\n",
       "\n",
       "    .dataframe thead th {\n",
       "        text-align: right;\n",
       "    }\n",
       "</style>\n",
       "<table border=\"1\" class=\"dataframe\">\n",
       "  <thead>\n",
       "    <tr style=\"text-align: right;\">\n",
       "      <th></th>\n",
       "      <th>title</th>\n",
       "      <th>n_enrolled</th>\n",
       "      <th>price</th>\n",
       "      <th>Level</th>\n",
       "      <th>course_length</th>\n",
       "    </tr>\n",
       "  </thead>\n",
       "  <tbody>\n",
       "    <tr>\n",
       "      <th>16</th>\n",
       "      <td>Data Science: R Basics</td>\n",
       "      <td>528782</td>\n",
       "      <td>49.0</td>\n",
       "      <td>Introductory</td>\n",
       "      <td>8</td>\n",
       "    </tr>\n",
       "    <tr>\n",
       "      <th>38</th>\n",
       "      <td>Statistics and R</td>\n",
       "      <td>314586</td>\n",
       "      <td>249.0</td>\n",
       "      <td>Intermediate</td>\n",
       "      <td>4</td>\n",
       "    </tr>\n",
       "    <tr>\n",
       "      <th>27</th>\n",
       "      <td>Data Science: Machine Learning</td>\n",
       "      <td>276209</td>\n",
       "      <td>49.0</td>\n",
       "      <td>Introductory</td>\n",
       "      <td>8</td>\n",
       "    </tr>\n",
       "    <tr>\n",
       "      <th>134</th>\n",
       "      <td>Python for Data Science</td>\n",
       "      <td>266978</td>\n",
       "      <td>350.0</td>\n",
       "      <td>Advanced</td>\n",
       "      <td>10</td>\n",
       "    </tr>\n",
       "    <tr>\n",
       "      <th>17</th>\n",
       "      <td>Python Basics for Data Science</td>\n",
       "      <td>228809</td>\n",
       "      <td>39.0</td>\n",
       "      <td>Introductory</td>\n",
       "      <td>5</td>\n",
       "    </tr>\n",
       "    <tr>\n",
       "      <th>91</th>\n",
       "      <td>Probability - The Science of Uncertainty and Data</td>\n",
       "      <td>205615</td>\n",
       "      <td>300.0</td>\n",
       "      <td>Advanced</td>\n",
       "      <td>16</td>\n",
       "    </tr>\n",
       "    <tr>\n",
       "      <th>46</th>\n",
       "      <td>Data Science: Visualization</td>\n",
       "      <td>171258</td>\n",
       "      <td>49.0</td>\n",
       "      <td>Introductory</td>\n",
       "      <td>8</td>\n",
       "    </tr>\n",
       "    <tr>\n",
       "      <th>51</th>\n",
       "      <td>Data Science: Probability</td>\n",
       "      <td>135859</td>\n",
       "      <td>49.0</td>\n",
       "      <td>Introductory</td>\n",
       "      <td>8</td>\n",
       "    </tr>\n",
       "    <tr>\n",
       "      <th>3</th>\n",
       "      <td>The Analytics Edge</td>\n",
       "      <td>129555</td>\n",
       "      <td>199.0</td>\n",
       "      <td>Intermediate</td>\n",
       "      <td>13</td>\n",
       "    </tr>\n",
       "    <tr>\n",
       "      <th>163</th>\n",
       "      <td>Probability and Statistics in Data Science usi...</td>\n",
       "      <td>106286</td>\n",
       "      <td>350.0</td>\n",
       "      <td>Advanced</td>\n",
       "      <td>10</td>\n",
       "    </tr>\n",
       "    <tr>\n",
       "      <th>95</th>\n",
       "      <td>Introduction to Probability</td>\n",
       "      <td>97291</td>\n",
       "      <td>99.0</td>\n",
       "      <td>Intermediate</td>\n",
       "      <td>10</td>\n",
       "    </tr>\n",
       "    <tr>\n",
       "      <th>59</th>\n",
       "      <td>Introduction to Probability</td>\n",
       "      <td>97291</td>\n",
       "      <td>99.0</td>\n",
       "      <td>Intermediate</td>\n",
       "      <td>10</td>\n",
       "    </tr>\n",
       "    <tr>\n",
       "      <th>89</th>\n",
       "      <td>Analyzing Data with Python</td>\n",
       "      <td>94079</td>\n",
       "      <td>39.0</td>\n",
       "      <td>Introductory</td>\n",
       "      <td>5</td>\n",
       "    </tr>\n",
       "    <tr>\n",
       "      <th>61</th>\n",
       "      <td>Data Science: Inference and Modeling</td>\n",
       "      <td>88256</td>\n",
       "      <td>49.0</td>\n",
       "      <td>Introductory</td>\n",
       "      <td>8</td>\n",
       "    </tr>\n",
       "    <tr>\n",
       "      <th>308</th>\n",
       "      <td>Machine Learning Fundamentals</td>\n",
       "      <td>82008</td>\n",
       "      <td>350.0</td>\n",
       "      <td>Advanced</td>\n",
       "      <td>10</td>\n",
       "    </tr>\n",
       "  </tbody>\n",
       "</table>\n",
       "</div>"
      ],
      "text/plain": [
       "                                                 title  n_enrolled  price  \\\n",
       "16                              Data Science: R Basics      528782   49.0   \n",
       "38                                    Statistics and R      314586  249.0   \n",
       "27                      Data Science: Machine Learning      276209   49.0   \n",
       "134                            Python for Data Science      266978  350.0   \n",
       "17                      Python Basics for Data Science      228809   39.0   \n",
       "91   Probability - The Science of Uncertainty and Data      205615  300.0   \n",
       "46                         Data Science: Visualization      171258   49.0   \n",
       "51                           Data Science: Probability      135859   49.0   \n",
       "3                                   The Analytics Edge      129555  199.0   \n",
       "163  Probability and Statistics in Data Science usi...      106286  350.0   \n",
       "95                         Introduction to Probability       97291   99.0   \n",
       "59                         Introduction to Probability       97291   99.0   \n",
       "89                          Analyzing Data with Python       94079   39.0   \n",
       "61                Data Science: Inference and Modeling       88256   49.0   \n",
       "308                      Machine Learning Fundamentals       82008  350.0   \n",
       "\n",
       "            Level  course_length  \n",
       "16   Introductory              8  \n",
       "38   Intermediate              4  \n",
       "27   Introductory              8  \n",
       "134      Advanced             10  \n",
       "17   Introductory              5  \n",
       "91       Advanced             16  \n",
       "46   Introductory              8  \n",
       "51   Introductory              8  \n",
       "3    Intermediate             13  \n",
       "163      Advanced             10  \n",
       "95   Intermediate             10  \n",
       "59   Intermediate             10  \n",
       "89   Introductory              5  \n",
       "61   Introductory              8  \n",
       "308      Advanced             10  "
      ]
     },
     "execution_count": 247,
     "metadata": {},
     "output_type": "execute_result"
    }
   ],
   "source": [
    "temp_df=edxcourses_df[(edxcourses_df['subject']=='Data Analysis & Statistics') & \n",
    "                       (edxcourses_df['n_enrolled']!=0)].sort_values('n_enrolled',ascending=False)\n",
    "df=temp_df[['title','n_enrolled','price','Level','course_length']].head(15)\n",
    "df"
   ]
  },
  {
   "cell_type": "code",
   "execution_count": 286,
   "id": "9937d146",
   "metadata": {},
   "outputs": [
    {
     "data": {
      "text/plain": [
       "<AxesSubplot:xlabel='price', ylabel='title'>"
      ]
     },
     "execution_count": 286,
     "metadata": {},
     "output_type": "execute_result"
    },
    {
     "data": {
      "image/png": "[encoded data removed]",
      "text/plain": [
       "<Figure size 432x288 with 1 Axes>"
      ]
     },
     "metadata": {
      "needs_background": "light"
     },
     "output_type": "display_data"
    }
   ],
   "source": [
    "sns.barplot(x = 'price', y = 'title', data = df)"
   ]
  },
  {
   "cell_type": "code",
   "execution_count": 285,
   "id": "ce817f81",
   "metadata": {},
   "outputs": [
    {
     "data": {
      "text/plain": [
       "<AxesSubplot:xlabel='n_enrolled', ylabel='title'>"
      ]
     },
     "execution_count": 285,
     "metadata": {},
     "output_type": "execute_result"
    },
    {
     "data": {
      "image/png": "[encoded data removed]",
      "text/plain": [
       "<Figure size 432x288 with 1 Axes>"
      ]
     },
     "metadata": {
      "needs_background": "light"
     },
     "output_type": "display_data"
    }
   ],
   "source": [
    "sns.barplot(x = 'n_enrolled', y = 'title', data = df)"
   ]
  },
  {
   "cell_type": "code",
   "execution_count": 287,
   "id": "d467464a",
   "metadata": {},
   "outputs": [
    {
     "data": {
      "text/plain": [
       "<AxesSubplot:xlabel='price', ylabel='n_enrolled'>"
      ]
     },
     "execution_count": 287,
     "metadata": {},
     "output_type": "execute_result"
    },
    {
     "data": {
      "image/png": "[encoded data removed]",
      "text/plain": [
       "<Figure size 432x288 with 1 Axes>"
      ]
     },
     "metadata": {
      "needs_background": "light"
     },
     "output_type": "display_data"
    }
   ],
   "source": [
    "sns.barplot(x = 'price', y = 'n_enrolled', data = df, ci=False)"
   ]
  },
  {
   "cell_type": "markdown",
   "id": "f5fd968f",
   "metadata": {},
   "source": [
    "- There seems to be not much relation between price and n_enrolled. \n",
    "- Even though the course is priced 249 it is popular and the next popularity comes to course 49.\n",
    "- So irrespective of price there are few popular courses."
   ]
  },
  {
   "cell_type": "markdown",
   "id": "b1eb8fdf",
   "metadata": {},
   "source": [
    "#### EDA on title:\n",
    "+ Title:\n",
    "    - Most popular titles and its features like its price,level,course_type,institution\n",
    "    - Which subject has most popular tiles\n",
    "    - Percentage of people enrolled in the popular courses\n",
    "    - Price comparision with n_enrolled on popular courses "
   ]
  },
  {
   "cell_type": "code",
   "execution_count": 268,
   "id": "a65bab3c",
   "metadata": {
    "collapsed": true
   },
   "outputs": [
    {
     "data": {
      "text/html": [
       "<div>\n",
       "<style scoped>\n",
       "    .dataframe tbody tr th:only-of-type {\n",
       "        vertical-align: middle;\n",
       "    }\n",
       "\n",
       "    .dataframe tbody tr th {\n",
       "        vertical-align: top;\n",
       "    }\n",
       "\n",
       "    .dataframe thead th {\n",
       "        text-align: right;\n",
       "    }\n",
       "</style>\n",
       "<table border=\"1\" class=\"dataframe\">\n",
       "  <thead>\n",
       "    <tr style=\"text-align: right;\">\n",
       "      <th></th>\n",
       "      <th>title</th>\n",
       "      <th>n_enrolled</th>\n",
       "      <th>course_type</th>\n",
       "      <th>institution</th>\n",
       "      <th>instructors</th>\n",
       "      <th>Level</th>\n",
       "      <th>subject</th>\n",
       "      <th>language</th>\n",
       "      <th>subtitles</th>\n",
       "      <th>course_effort</th>\n",
       "      <th>course_length</th>\n",
       "      <th>price</th>\n",
       "    </tr>\n",
       "  </thead>\n",
       "  <tbody>\n",
       "    <tr>\n",
       "      <th>2</th>\n",
       "      <td>CS50's Introduction to Computer Science</td>\n",
       "      <td>2442271</td>\n",
       "      <td>Self-paced on your time</td>\n",
       "      <td>Harvard University</td>\n",
       "      <td>David J. Malan-Doug Lloyd-Brian Yu</td>\n",
       "      <td>Introductory</td>\n",
       "      <td>Computer Science</td>\n",
       "      <td>English</td>\n",
       "      <td>English</td>\n",
       "      <td>6–18 hours per week</td>\n",
       "      <td>12</td>\n",
       "      <td>90.0</td>\n",
       "    </tr>\n",
       "    <tr>\n",
       "      <th>29</th>\n",
       "      <td>IELTS Academic Test Preparation</td>\n",
       "      <td>1103777</td>\n",
       "      <td>Self-paced on your time</td>\n",
       "      <td>The University of Queensland</td>\n",
       "      <td>Iain Mathieson-Martin Dutton-Megan Yucel-Steph...</td>\n",
       "      <td>Introductory</td>\n",
       "      <td>Communication</td>\n",
       "      <td>English</td>\n",
       "      <td>English</td>\n",
       "      <td>5–10 hours per week</td>\n",
       "      <td>8</td>\n",
       "      <td>99.0</td>\n",
       "    </tr>\n",
       "    <tr>\n",
       "      <th>31</th>\n",
       "      <td>TOEFL® Test Preparation: The Insider’s Guide</td>\n",
       "      <td>1022489</td>\n",
       "      <td>Self-paced on your time</td>\n",
       "      <td>Educational Testing Service</td>\n",
       "      <td>Michael Knab-Cynthia Newman-Shawn Gorman-Molly...</td>\n",
       "      <td>Introductory</td>\n",
       "      <td>Communication</td>\n",
       "      <td>English</td>\n",
       "      <td>English</td>\n",
       "      <td>2–4 hours per week</td>\n",
       "      <td>6</td>\n",
       "      <td>49.0</td>\n",
       "    </tr>\n",
       "    <tr>\n",
       "      <th>23</th>\n",
       "      <td>CS50's Web Programming with Python and JavaScript</td>\n",
       "      <td>698950</td>\n",
       "      <td>Self-paced on your time</td>\n",
       "      <td>Harvard University</td>\n",
       "      <td>David J. Malan-Brian Yu</td>\n",
       "      <td>Intermediate</td>\n",
       "      <td>Computer Science</td>\n",
       "      <td>English</td>\n",
       "      <td>English</td>\n",
       "      <td>6–9 hours per week</td>\n",
       "      <td>12</td>\n",
       "      <td>90.0</td>\n",
       "    </tr>\n",
       "    <tr>\n",
       "      <th>64</th>\n",
       "      <td>Introduction to Linux</td>\n",
       "      <td>642088</td>\n",
       "      <td>Self-paced on your time</td>\n",
       "      <td>The Linux Foundation</td>\n",
       "      <td>Jerry Cooperstein</td>\n",
       "      <td>Introductory</td>\n",
       "      <td>Computer Science</td>\n",
       "      <td>English</td>\n",
       "      <td>English</td>\n",
       "      <td>5–7 hours per week</td>\n",
       "      <td>14</td>\n",
       "      <td>199.0</td>\n",
       "    </tr>\n",
       "    <tr>\n",
       "      <th>16</th>\n",
       "      <td>Data Science: R Basics</td>\n",
       "      <td>528782</td>\n",
       "      <td>Self-paced on your time</td>\n",
       "      <td>Harvard University</td>\n",
       "      <td>Rafael Irizarry</td>\n",
       "      <td>Introductory</td>\n",
       "      <td>Data Analysis &amp; Statistics</td>\n",
       "      <td>English</td>\n",
       "      <td>English</td>\n",
       "      <td>1–2 hours per week</td>\n",
       "      <td>8</td>\n",
       "      <td>49.0</td>\n",
       "    </tr>\n",
       "    <tr>\n",
       "      <th>48</th>\n",
       "      <td>The Science of Happiness</td>\n",
       "      <td>475614</td>\n",
       "      <td>Self-paced on your time</td>\n",
       "      <td>University of California, Berkeley</td>\n",
       "      <td>Dacher Keltner-Emiliana Simon-Thomas</td>\n",
       "      <td>Introductory</td>\n",
       "      <td>Social Sciences</td>\n",
       "      <td>English</td>\n",
       "      <td>English</td>\n",
       "      <td>4–5 hours per week</td>\n",
       "      <td>11</td>\n",
       "      <td>169.0</td>\n",
       "    </tr>\n",
       "    <tr>\n",
       "      <th>24</th>\n",
       "      <td>Contract Law: From Trust to Promise to Contract</td>\n",
       "      <td>414181</td>\n",
       "      <td>Self-paced on your time</td>\n",
       "      <td>Harvard University</td>\n",
       "      <td>Charles Fried</td>\n",
       "      <td>Intermediate</td>\n",
       "      <td>Business &amp; Management</td>\n",
       "      <td>English</td>\n",
       "      <td>English</td>\n",
       "      <td>3–6 hours per week</td>\n",
       "      <td>8</td>\n",
       "      <td>125.0</td>\n",
       "    </tr>\n",
       "    <tr>\n",
       "      <th>30</th>\n",
       "      <td>The Architectural Imagination</td>\n",
       "      <td>406181</td>\n",
       "      <td>Self-paced on your time</td>\n",
       "      <td>Harvard University</td>\n",
       "      <td>Lisa Haber-Thomson-K. Michael Hays-Erika Nagin...</td>\n",
       "      <td>Introductory</td>\n",
       "      <td>Architecture</td>\n",
       "      <td>English</td>\n",
       "      <td>English</td>\n",
       "      <td>3–5 hours per week</td>\n",
       "      <td>10</td>\n",
       "      <td>99.0</td>\n",
       "    </tr>\n",
       "    <tr>\n",
       "      <th>35</th>\n",
       "      <td>Basic Spanish 1: Getting Started</td>\n",
       "      <td>400169</td>\n",
       "      <td>Self-paced on your time</td>\n",
       "      <td>Universitat Politècnica de Valencia</td>\n",
       "      <td>Prof. Ana Gimeno-Virginia González-Cristina Na...</td>\n",
       "      <td>Introductory</td>\n",
       "      <td>Communication</td>\n",
       "      <td>English</td>\n",
       "      <td>English, Español</td>\n",
       "      <td>4–5 hours per week</td>\n",
       "      <td>7</td>\n",
       "      <td>40.0</td>\n",
       "    </tr>\n",
       "  </tbody>\n",
       "</table>\n",
       "</div>"
      ],
      "text/plain": [
       "                                                title  n_enrolled  \\\n",
       "2             CS50's Introduction to Computer Science     2442271   \n",
       "29                    IELTS Academic Test Preparation     1103777   \n",
       "31       TOEFL® Test Preparation: The Insider’s Guide     1022489   \n",
       "23  CS50's Web Programming with Python and JavaScript      698950   \n",
       "64                              Introduction to Linux      642088   \n",
       "16                             Data Science: R Basics      528782   \n",
       "48                           The Science of Happiness      475614   \n",
       "24    Contract Law: From Trust to Promise to Contract      414181   \n",
       "30                      The Architectural Imagination      406181   \n",
       "35                   Basic Spanish 1: Getting Started      400169   \n",
       "\n",
       "                course_type                          institution  \\\n",
       "2   Self-paced on your time                   Harvard University   \n",
       "29  Self-paced on your time         The University of Queensland   \n",
       "31  Self-paced on your time          Educational Testing Service   \n",
       "23  Self-paced on your time                   Harvard University   \n",
       "64  Self-paced on your time                 The Linux Foundation   \n",
       "16  Self-paced on your time                   Harvard University   \n",
       "48  Self-paced on your time   University of California, Berkeley   \n",
       "24  Self-paced on your time                   Harvard University   \n",
       "30  Self-paced on your time                   Harvard University   \n",
       "35  Self-paced on your time  Universitat Politècnica de Valencia   \n",
       "\n",
       "                                          instructors         Level  \\\n",
       "2                  David J. Malan-Doug Lloyd-Brian Yu  Introductory   \n",
       "29  Iain Mathieson-Martin Dutton-Megan Yucel-Steph...  Introductory   \n",
       "31  Michael Knab-Cynthia Newman-Shawn Gorman-Molly...  Introductory   \n",
       "23                            David J. Malan-Brian Yu  Intermediate   \n",
       "64                                  Jerry Cooperstein  Introductory   \n",
       "16                                    Rafael Irizarry  Introductory   \n",
       "48               Dacher Keltner-Emiliana Simon-Thomas  Introductory   \n",
       "24                                      Charles Fried  Intermediate   \n",
       "30  Lisa Haber-Thomson-K. Michael Hays-Erika Nagin...  Introductory   \n",
       "35  Prof. Ana Gimeno-Virginia González-Cristina Na...  Introductory   \n",
       "\n",
       "                       subject language         subtitles  \\\n",
       "2             Computer Science  English           English   \n",
       "29               Communication  English           English   \n",
       "31               Communication  English           English   \n",
       "23            Computer Science  English           English   \n",
       "64            Computer Science  English           English   \n",
       "16  Data Analysis & Statistics  English           English   \n",
       "48             Social Sciences  English           English   \n",
       "24       Business & Management  English           English   \n",
       "30                Architecture  English           English   \n",
       "35               Communication  English  English, Español   \n",
       "\n",
       "          course_effort  course_length  price  \n",
       "2   6–18 hours per week             12   90.0  \n",
       "29  5–10 hours per week              8   99.0  \n",
       "31   2–4 hours per week              6   49.0  \n",
       "23   6–9 hours per week             12   90.0  \n",
       "64   5–7 hours per week             14  199.0  \n",
       "16   1–2 hours per week              8   49.0  \n",
       "48   4–5 hours per week             11  169.0  \n",
       "24   3–6 hours per week              8  125.0  \n",
       "30   3–5 hours per week             10   99.0  \n",
       "35   4–5 hours per week              7   40.0  "
      ]
     },
     "execution_count": 268,
     "metadata": {},
     "output_type": "execute_result"
    }
   ],
   "source": [
    "# Top 10 popular titles -> Titles with max enrolled\n",
    "pop_titles=edxcourses_df.sort_values('n_enrolled',ascending=False).head(10)\n",
    "pop_titles"
   ]
  },
  {
   "cell_type": "code",
   "execution_count": 279,
   "id": "317b40ba",
   "metadata": {},
   "outputs": [
    {
     "data": {
      "image/png": "[encoded data removed]",
      "text/plain": [
       "<Figure size 720x360 with 1 Axes>"
      ]
     },
     "metadata": {
      "needs_background": "light"
     },
     "output_type": "display_data"
    }
   ],
   "source": [
    "plt.figure(figsize=(10,5))\n",
    "sns.barplot(x='n_enrolled',y='title', hue='subject',data=pop_titles,ci=None)\n",
    "plt.show()"
   ]
  },
  {
   "cell_type": "code",
   "execution_count": 318,
   "id": "db4163c0",
   "metadata": {},
   "outputs": [
    {
     "data": {
      "text/html": [
       "<div>\n",
       "<style scoped>\n",
       "    .dataframe tbody tr th:only-of-type {\n",
       "        vertical-align: middle;\n",
       "    }\n",
       "\n",
       "    .dataframe tbody tr th {\n",
       "        vertical-align: top;\n",
       "    }\n",
       "\n",
       "    .dataframe thead th {\n",
       "        text-align: right;\n",
       "    }\n",
       "</style>\n",
       "<table border=\"1\" class=\"dataframe\">\n",
       "  <thead>\n",
       "    <tr style=\"text-align: right;\">\n",
       "      <th></th>\n",
       "      <th>title</th>\n",
       "      <th>%n_enrolled</th>\n",
       "    </tr>\n",
       "  </thead>\n",
       "  <tbody>\n",
       "    <tr>\n",
       "      <th>2</th>\n",
       "      <td>CS50's Introduction to Computer Science</td>\n",
       "      <td>5.363197</td>\n",
       "    </tr>\n",
       "    <tr>\n",
       "      <th>29</th>\n",
       "      <td>IELTS Academic Test Preparation</td>\n",
       "      <td>2.423880</td>\n",
       "    </tr>\n",
       "    <tr>\n",
       "      <th>31</th>\n",
       "      <td>TOEFL® Test Preparation: The Insider’s Guide</td>\n",
       "      <td>2.245373</td>\n",
       "    </tr>\n",
       "    <tr>\n",
       "      <th>23</th>\n",
       "      <td>CS50's Web Programming with Python and JavaScript</td>\n",
       "      <td>1.534885</td>\n",
       "    </tr>\n",
       "    <tr>\n",
       "      <th>64</th>\n",
       "      <td>Introduction to Linux</td>\n",
       "      <td>1.410017</td>\n",
       "    </tr>\n",
       "    <tr>\n",
       "      <th>16</th>\n",
       "      <td>Data Science: R Basics</td>\n",
       "      <td>1.161199</td>\n",
       "    </tr>\n",
       "    <tr>\n",
       "      <th>48</th>\n",
       "      <td>The Science of Happiness</td>\n",
       "      <td>1.044442</td>\n",
       "    </tr>\n",
       "    <tr>\n",
       "      <th>24</th>\n",
       "      <td>Contract Law: From Trust to Promise to Contract</td>\n",
       "      <td>0.909536</td>\n",
       "    </tr>\n",
       "    <tr>\n",
       "      <th>30</th>\n",
       "      <td>The Architectural Imagination</td>\n",
       "      <td>0.891968</td>\n",
       "    </tr>\n",
       "    <tr>\n",
       "      <th>35</th>\n",
       "      <td>Basic Spanish 1: Getting Started</td>\n",
       "      <td>0.878766</td>\n",
       "    </tr>\n",
       "  </tbody>\n",
       "</table>\n",
       "</div>"
      ],
      "text/plain": [
       "                                                title  %n_enrolled\n",
       "2             CS50's Introduction to Computer Science     5.363197\n",
       "29                    IELTS Academic Test Preparation     2.423880\n",
       "31       TOEFL® Test Preparation: The Insider’s Guide     2.245373\n",
       "23  CS50's Web Programming with Python and JavaScript     1.534885\n",
       "64                              Introduction to Linux     1.410017\n",
       "16                             Data Science: R Basics     1.161199\n",
       "48                           The Science of Happiness     1.044442\n",
       "24    Contract Law: From Trust to Promise to Contract     0.909536\n",
       "30                      The Architectural Imagination     0.891968\n",
       "35                   Basic Spanish 1: Getting Started     0.878766"
      ]
     },
     "execution_count": 318,
     "metadata": {},
     "output_type": "execute_result"
    }
   ],
   "source": [
    "pop_titles['%n_enrolled']=100*pop_titles['n_enrolled']/edxcourses_df['n_enrolled'].sum()\n",
    "pop_titles[['title','%n_enrolled']]"
   ]
  },
  {
   "cell_type": "code",
   "execution_count": 302,
   "id": "60f25c86",
   "metadata": {},
   "outputs": [
    {
     "data": {
      "image/png": "[encoded data removed]",
      "text/plain": [
       "<Figure size 720x360 with 1 Axes>"
      ]
     },
     "metadata": {
      "needs_background": "light"
     },
     "output_type": "display_data"
    }
   ],
   "source": [
    "plt.figure(figsize=(10,5))\n",
    "sns.barplot(x=(100*pop_titles['n_enrolled']/edxcourses_df['n_enrolled'].sum()),y=pop_titles['title'])\n",
    "plt.title('Percentage of n_enrolled in top titles')\n",
    "plt.show()"
   ]
  },
  {
   "cell_type": "code",
   "execution_count": 329,
   "id": "9ff63f71",
   "metadata": {},
   "outputs": [
    {
     "data": {
      "image/png": "[encoded data removed]",
      "text/plain": [
       "<Figure size 576x360 with 1 Axes>"
      ]
     },
     "metadata": {
      "needs_background": "light"
     },
     "output_type": "display_data"
    }
   ],
   "source": [
    "#comparision between price and n_enrolled in popular titles\n",
    "# Using Seaborn \n",
    "plt.figure(figsize=(8,5))\n",
    "sns.barplot(x='price',y='n_enrolled', hue='title',data=pop_titles,ci=None)\n",
    "plt.legend(bbox_to_anchor=(1.1,1))\n",
    "plt.show()"
   ]
  },
  {
   "cell_type": "markdown",
   "id": "5b8eb09f",
   "metadata": {},
   "source": [
    "- Not much correlation is seen between price and n_enrolled as much cheaper courses are not popular.\n"
   ]
  },
  {
   "cell_type": "code",
   "execution_count": 332,
   "id": "5742b2d0",
   "metadata": {},
   "outputs": [
    {
     "data": {
      "text/html": [
       "<div>\n",
       "<style scoped>\n",
       "    .dataframe tbody tr th:only-of-type {\n",
       "        vertical-align: middle;\n",
       "    }\n",
       "\n",
       "    .dataframe tbody tr th {\n",
       "        vertical-align: top;\n",
       "    }\n",
       "\n",
       "    .dataframe thead th {\n",
       "        text-align: right;\n",
       "    }\n",
       "</style>\n",
       "<table border=\"1\" class=\"dataframe\">\n",
       "  <thead>\n",
       "    <tr style=\"text-align: right;\">\n",
       "      <th></th>\n",
       "      <th>title</th>\n",
       "      <th>n_enrolled</th>\n",
       "      <th>course_type</th>\n",
       "      <th>institution</th>\n",
       "      <th>instructors</th>\n",
       "      <th>Level</th>\n",
       "      <th>subject</th>\n",
       "      <th>language</th>\n",
       "      <th>subtitles</th>\n",
       "      <th>course_effort</th>\n",
       "      <th>course_length</th>\n",
       "      <th>price</th>\n",
       "      <th>%n_enrolled</th>\n",
       "    </tr>\n",
       "  </thead>\n",
       "  <tbody>\n",
       "    <tr>\n",
       "      <th>2</th>\n",
       "      <td>CS50's Introduction to Computer Science</td>\n",
       "      <td>2442271</td>\n",
       "      <td>Self-paced on your time</td>\n",
       "      <td>Harvard University</td>\n",
       "      <td>David J. Malan-Doug Lloyd-Brian Yu</td>\n",
       "      <td>Introductory</td>\n",
       "      <td>Computer Science</td>\n",
       "      <td>English</td>\n",
       "      <td>English</td>\n",
       "      <td>6–18 hours per week</td>\n",
       "      <td>12</td>\n",
       "      <td>90.0</td>\n",
       "      <td>5.363197</td>\n",
       "    </tr>\n",
       "    <tr>\n",
       "      <th>29</th>\n",
       "      <td>IELTS Academic Test Preparation</td>\n",
       "      <td>1103777</td>\n",
       "      <td>Self-paced on your time</td>\n",
       "      <td>The University of Queensland</td>\n",
       "      <td>Iain Mathieson-Martin Dutton-Megan Yucel-Steph...</td>\n",
       "      <td>Introductory</td>\n",
       "      <td>Communication</td>\n",
       "      <td>English</td>\n",
       "      <td>English</td>\n",
       "      <td>5–10 hours per week</td>\n",
       "      <td>8</td>\n",
       "      <td>99.0</td>\n",
       "      <td>2.423880</td>\n",
       "    </tr>\n",
       "    <tr>\n",
       "      <th>31</th>\n",
       "      <td>TOEFL® Test Preparation: The Insider’s Guide</td>\n",
       "      <td>1022489</td>\n",
       "      <td>Self-paced on your time</td>\n",
       "      <td>Educational Testing Service</td>\n",
       "      <td>Michael Knab-Cynthia Newman-Shawn Gorman-Molly...</td>\n",
       "      <td>Introductory</td>\n",
       "      <td>Communication</td>\n",
       "      <td>English</td>\n",
       "      <td>English</td>\n",
       "      <td>2–4 hours per week</td>\n",
       "      <td>6</td>\n",
       "      <td>49.0</td>\n",
       "      <td>2.245373</td>\n",
       "    </tr>\n",
       "    <tr>\n",
       "      <th>23</th>\n",
       "      <td>CS50's Web Programming with Python and JavaScript</td>\n",
       "      <td>698950</td>\n",
       "      <td>Self-paced on your time</td>\n",
       "      <td>Harvard University</td>\n",
       "      <td>David J. Malan-Brian Yu</td>\n",
       "      <td>Intermediate</td>\n",
       "      <td>Computer Science</td>\n",
       "      <td>English</td>\n",
       "      <td>English</td>\n",
       "      <td>6–9 hours per week</td>\n",
       "      <td>12</td>\n",
       "      <td>90.0</td>\n",
       "      <td>1.534885</td>\n",
       "    </tr>\n",
       "    <tr>\n",
       "      <th>64</th>\n",
       "      <td>Introduction to Linux</td>\n",
       "      <td>642088</td>\n",
       "      <td>Self-paced on your time</td>\n",
       "      <td>The Linux Foundation</td>\n",
       "      <td>Jerry Cooperstein</td>\n",
       "      <td>Introductory</td>\n",
       "      <td>Computer Science</td>\n",
       "      <td>English</td>\n",
       "      <td>English</td>\n",
       "      <td>5–7 hours per week</td>\n",
       "      <td>14</td>\n",
       "      <td>199.0</td>\n",
       "      <td>1.410017</td>\n",
       "    </tr>\n",
       "    <tr>\n",
       "      <th>16</th>\n",
       "      <td>Data Science: R Basics</td>\n",
       "      <td>528782</td>\n",
       "      <td>Self-paced on your time</td>\n",
       "      <td>Harvard University</td>\n",
       "      <td>Rafael Irizarry</td>\n",
       "      <td>Introductory</td>\n",
       "      <td>Data Analysis &amp; Statistics</td>\n",
       "      <td>English</td>\n",
       "      <td>English</td>\n",
       "      <td>1–2 hours per week</td>\n",
       "      <td>8</td>\n",
       "      <td>49.0</td>\n",
       "      <td>1.161199</td>\n",
       "    </tr>\n",
       "  </tbody>\n",
       "</table>\n",
       "</div>"
      ],
      "text/plain": [
       "                                                title  n_enrolled  \\\n",
       "2             CS50's Introduction to Computer Science     2442271   \n",
       "29                    IELTS Academic Test Preparation     1103777   \n",
       "31       TOEFL® Test Preparation: The Insider’s Guide     1022489   \n",
       "23  CS50's Web Programming with Python and JavaScript      698950   \n",
       "64                              Introduction to Linux      642088   \n",
       "16                             Data Science: R Basics      528782   \n",
       "\n",
       "                course_type                   institution  \\\n",
       "2   Self-paced on your time            Harvard University   \n",
       "29  Self-paced on your time  The University of Queensland   \n",
       "31  Self-paced on your time   Educational Testing Service   \n",
       "23  Self-paced on your time            Harvard University   \n",
       "64  Self-paced on your time          The Linux Foundation   \n",
       "16  Self-paced on your time            Harvard University   \n",
       "\n",
       "                                          instructors         Level  \\\n",
       "2                  David J. Malan-Doug Lloyd-Brian Yu  Introductory   \n",
       "29  Iain Mathieson-Martin Dutton-Megan Yucel-Steph...  Introductory   \n",
       "31  Michael Knab-Cynthia Newman-Shawn Gorman-Molly...  Introductory   \n",
       "23                            David J. Malan-Brian Yu  Intermediate   \n",
       "64                                  Jerry Cooperstein  Introductory   \n",
       "16                                    Rafael Irizarry  Introductory   \n",
       "\n",
       "                       subject language subtitles        course_effort  \\\n",
       "2             Computer Science  English   English  6–18 hours per week   \n",
       "29               Communication  English   English  5–10 hours per week   \n",
       "31               Communication  English   English   2–4 hours per week   \n",
       "23            Computer Science  English   English   6–9 hours per week   \n",
       "64            Computer Science  English   English   5–7 hours per week   \n",
       "16  Data Analysis & Statistics  English   English   1–2 hours per week   \n",
       "\n",
       "    course_length  price  %n_enrolled  \n",
       "2              12   90.0     5.363197  \n",
       "29              8   99.0     2.423880  \n",
       "31              6   49.0     2.245373  \n",
       "23             12   90.0     1.534885  \n",
       "64             14  199.0     1.410017  \n",
       "16              8   49.0     1.161199  "
      ]
     },
     "execution_count": 332,
     "metadata": {},
     "output_type": "execute_result"
    }
   ],
   "source": [
    "pop_titles.head(6)"
   ]
  },
  {
   "cell_type": "markdown",
   "id": "83b96286",
   "metadata": {},
   "source": [
    "- Most popular titles are introductory and self-paced.\n",
    "- popular titles belong to computer science and communication.\n",
    "- Harvard university courses are popular.\n",
    "- CS50's Introduction to Computer Science , IELTS Academic Test Preparation\t,TOEFL® Test Preparation: The Insider’s Guide are top courses with 5%, 2.5%, 2.2% people enrolled respectively."
   ]
  },
  {
   "cell_type": "markdown",
   "id": "54bcf501",
   "metadata": {},
   "source": [
    "##### EDA on course_type:\n",
    "\n",
    "- how many titles in each course type\n",
    "- avg price for each course type\n",
    "- which course type is most popular"
   ]
  },
  {
   "cell_type": "code",
   "execution_count": 335,
   "id": "41f78a54",
   "metadata": {},
   "outputs": [
    {
     "data": {
      "text/plain": [
       "['Self-paced on your time', 'Instructor-led on a course schedule']\n",
       "Categories (2, object): ['Instructor-led on a course schedule', 'Self-paced on your time']"
      ]
     },
     "execution_count": 335,
     "metadata": {},
     "output_type": "execute_result"
    }
   ],
   "source": [
    "edxcourses_df['course_type'].unique()"
   ]
  },
  {
   "cell_type": "code",
   "execution_count": 344,
   "id": "4a895a0f",
   "metadata": {},
   "outputs": [
    {
     "data": {
      "text/plain": [
       "course_type\n",
       "Instructor-led on a course schedule     58\n",
       "Self-paced on your time                917\n",
       "Name: title, dtype: int64"
      ]
     },
     "execution_count": 344,
     "metadata": {},
     "output_type": "execute_result"
    }
   ],
   "source": [
    "# number of titles in each course type\n",
    "edxcourses_df.groupby('course_type')['title'].count()"
   ]
  },
  {
   "cell_type": "code",
   "execution_count": 345,
   "id": "148008a3",
   "metadata": {},
   "outputs": [
    {
     "data": {
      "image/png": "[encoded data removed]",
      "text/plain": [
       "<Figure size 432x288 with 1 Axes>"
      ]
     },
     "metadata": {},
     "output_type": "display_data"
    }
   ],
   "source": [
    "# plot to show number of titles in each course type\n",
    "edxcourses_df.groupby('course_type')['title'].count().plot(kind='pie');"
   ]
  },
  {
   "cell_type": "code",
   "execution_count": 346,
   "id": "02b25613",
   "metadata": {},
   "outputs": [
    {
     "data": {
      "text/plain": [
       "course_type\n",
       "Instructor-led on a course schedule    197.310345\n",
       "Self-paced on your time                 94.340087\n",
       "Name: price, dtype: float64"
      ]
     },
     "execution_count": 346,
     "metadata": {},
     "output_type": "execute_result"
    }
   ],
   "source": [
    "# avg price for each course type\n",
    "edxcourses_df.groupby('course_type')['price'].mean()"
   ]
  },
  {
   "cell_type": "code",
   "execution_count": 347,
   "id": "aba1f647",
   "metadata": {},
   "outputs": [
    {
     "data": {
      "text/plain": [
       "course_type\n",
       "Instructor-led on a course schedule     2370772\n",
       "Self-paced on your time                43166828\n",
       "Name: n_enrolled, dtype: int32"
      ]
     },
     "execution_count": 347,
     "metadata": {},
     "output_type": "execute_result"
    }
   ],
   "source": [
    "# which course type is most popular\n",
    "edxcourses_df.groupby('course_type')['n_enrolled'].sum()"
   ]
  },
  {
   "cell_type": "markdown",
   "id": "6fabc9ed",
   "metadata": {},
   "source": [
    "- Self paced courses are 917 and instructor led courses are 58.\n",
    "- Instructor led courses are charged double the price of self-paced.\n",
    "- Self Paced courses are most preferred."
   ]
  },
  {
   "cell_type": "code",
   "execution_count": 356,
   "id": "f6d630ea",
   "metadata": {},
   "outputs": [
    {
     "data": {
      "text/html": [
       "<div>\n",
       "<style scoped>\n",
       "    .dataframe tbody tr th:only-of-type {\n",
       "        vertical-align: middle;\n",
       "    }\n",
       "\n",
       "    .dataframe tbody tr th {\n",
       "        vertical-align: top;\n",
       "    }\n",
       "\n",
       "    .dataframe thead th {\n",
       "        text-align: right;\n",
       "    }\n",
       "</style>\n",
       "<table border=\"1\" class=\"dataframe\">\n",
       "  <thead>\n",
       "    <tr style=\"text-align: right;\">\n",
       "      <th></th>\n",
       "      <th>title</th>\n",
       "      <th>n_enrolled</th>\n",
       "      <th>course_type</th>\n",
       "      <th>institution</th>\n",
       "      <th>instructors</th>\n",
       "      <th>Level</th>\n",
       "      <th>subject</th>\n",
       "      <th>language</th>\n",
       "      <th>subtitles</th>\n",
       "      <th>course_effort</th>\n",
       "      <th>course_length</th>\n",
       "      <th>price</th>\n",
       "    </tr>\n",
       "  </thead>\n",
       "  <tbody>\n",
       "    <tr>\n",
       "      <th>153</th>\n",
       "      <td>Artificial Intelligence (AI)</td>\n",
       "      <td>265104</td>\n",
       "      <td>Instructor-led on a course schedule</td>\n",
       "      <td>Columbia University</td>\n",
       "      <td>Ansaf Salleb-Aouissi</td>\n",
       "      <td>Advanced</td>\n",
       "      <td>Computer Science</td>\n",
       "      <td>English</td>\n",
       "      <td>English</td>\n",
       "      <td>8–10 hours per week</td>\n",
       "      <td>12</td>\n",
       "      <td>249.0</td>\n",
       "    </tr>\n",
       "    <tr>\n",
       "      <th>91</th>\n",
       "      <td>Probability - The Science of Uncertainty and Data</td>\n",
       "      <td>205615</td>\n",
       "      <td>Instructor-led on a course schedule</td>\n",
       "      <td>Massachusetts Institute of Technology</td>\n",
       "      <td>John Tsitsiklis-Dimitri Bertsekas-Patrick Jail...</td>\n",
       "      <td>Advanced</td>\n",
       "      <td>Data Analysis &amp; Statistics</td>\n",
       "      <td>English</td>\n",
       "      <td>English</td>\n",
       "      <td>10–14 hours per week</td>\n",
       "      <td>16</td>\n",
       "      <td>300.0</td>\n",
       "    </tr>\n",
       "    <tr>\n",
       "      <th>260</th>\n",
       "      <td>Machine Learning</td>\n",
       "      <td>150855</td>\n",
       "      <td>Instructor-led on a course schedule</td>\n",
       "      <td>Columbia University</td>\n",
       "      <td>John W. Paisley</td>\n",
       "      <td>Advanced</td>\n",
       "      <td>Computer Science</td>\n",
       "      <td>English</td>\n",
       "      <td>English</td>\n",
       "      <td>8–10 hours per week</td>\n",
       "      <td>12</td>\n",
       "      <td>249.0</td>\n",
       "    </tr>\n",
       "    <tr>\n",
       "      <th>139</th>\n",
       "      <td>Introduction to Biology - The Secret of Life</td>\n",
       "      <td>147512</td>\n",
       "      <td>Instructor-led on a course schedule</td>\n",
       "      <td>Massachusetts Institute of Technology</td>\n",
       "      <td>Eric S. Lander-Michelle Mischke-Graham Walker-...</td>\n",
       "      <td>Introductory</td>\n",
       "      <td>Biology &amp; Life Sciences</td>\n",
       "      <td>English</td>\n",
       "      <td>English, 中文</td>\n",
       "      <td>5–10 hours per week</td>\n",
       "      <td>16</td>\n",
       "      <td>150.0</td>\n",
       "    </tr>\n",
       "    <tr>\n",
       "      <th>129</th>\n",
       "      <td>Supply Chain Analytics</td>\n",
       "      <td>145049</td>\n",
       "      <td>Instructor-led on a course schedule</td>\n",
       "      <td>Massachusetts Institute of Technology</td>\n",
       "      <td>Chris Caplice</td>\n",
       "      <td>Introductory</td>\n",
       "      <td>Business &amp; Management</td>\n",
       "      <td>English</td>\n",
       "      <td>English</td>\n",
       "      <td>8–12 hours per week</td>\n",
       "      <td>15</td>\n",
       "      <td>199.0</td>\n",
       "    </tr>\n",
       "  </tbody>\n",
       "</table>\n",
       "</div>"
      ],
      "text/plain": [
       "                                                 title  n_enrolled  \\\n",
       "153                       Artificial Intelligence (AI)      265104   \n",
       "91   Probability - The Science of Uncertainty and Data      205615   \n",
       "260                                   Machine Learning      150855   \n",
       "139       Introduction to Biology - The Secret of Life      147512   \n",
       "129                             Supply Chain Analytics      145049   \n",
       "\n",
       "                             course_type  \\\n",
       "153  Instructor-led on a course schedule   \n",
       "91   Instructor-led on a course schedule   \n",
       "260  Instructor-led on a course schedule   \n",
       "139  Instructor-led on a course schedule   \n",
       "129  Instructor-led on a course schedule   \n",
       "\n",
       "                               institution  \\\n",
       "153                    Columbia University   \n",
       "91   Massachusetts Institute of Technology   \n",
       "260                    Columbia University   \n",
       "139  Massachusetts Institute of Technology   \n",
       "129  Massachusetts Institute of Technology   \n",
       "\n",
       "                                           instructors         Level  \\\n",
       "153                               Ansaf Salleb-Aouissi      Advanced   \n",
       "91   John Tsitsiklis-Dimitri Bertsekas-Patrick Jail...      Advanced   \n",
       "260                                    John W. Paisley      Advanced   \n",
       "139  Eric S. Lander-Michelle Mischke-Graham Walker-...  Introductory   \n",
       "129                                      Chris Caplice  Introductory   \n",
       "\n",
       "                        subject language    subtitles         course_effort  \\\n",
       "153            Computer Science  English      English   8–10 hours per week   \n",
       "91   Data Analysis & Statistics  English      English  10–14 hours per week   \n",
       "260            Computer Science  English      English   8–10 hours per week   \n",
       "139     Biology & Life Sciences  English  English, 中文   5–10 hours per week   \n",
       "129       Business & Management  English      English   8–12 hours per week   \n",
       "\n",
       "     course_length  price  \n",
       "153             12  249.0  \n",
       "91              16  300.0  \n",
       "260             12  249.0  \n",
       "139             16  150.0  \n",
       "129             15  199.0  "
      ]
     },
     "execution_count": 356,
     "metadata": {},
     "output_type": "execute_result"
    }
   ],
   "source": [
    "top_courses=edxcourses_df[edxcourses_df.course_type=='Instructor-led on a course schedule'].sort_values('n_enrolled',ascending=False).head(5)\n",
    "top_courses"
   ]
  },
  {
   "cell_type": "markdown",
   "id": "eda4a00d",
   "metadata": {},
   "source": [
    "- Columbia University and Massachusetts Institute of Technology are the top institutions preferred for Instructor led courses\n",
    "- Most Instructor led courses are Advanced."
   ]
  },
  {
   "cell_type": "code",
   "execution_count": 365,
   "id": "1d278dd5",
   "metadata": {},
   "outputs": [
    {
     "data": {
      "image/png": "[encoded data removed]",
      "text/plain": [
       "<Figure size 576x288 with 1 Axes>"
      ]
     },
     "metadata": {
      "needs_background": "light"
     },
     "output_type": "display_data"
    }
   ],
   "source": [
    "plt.figure(figsize=(8,4))\n",
    "sns.barplot(x='n_enrolled',y='title', hue='Level',data=top_courses,ci=None)\n",
    "plt.legend(bbox_to_anchor=(1.1,1))\n",
    "plt.show()"
   ]
  },
  {
   "cell_type": "code",
   "execution_count": null,
   "id": "067c3a3d",
   "metadata": {},
   "outputs": [],
   "source": []
  }
 ],
 "metadata": {
  "kernelspec": {
   "display_name": "Python 3 (ipykernel)",
   "language": "python",
   "name": "python3"
  },
  "language_info": {
   "codemirror_mode": {
    "name": "ipython",
    "version": 3
   },
   "file_extension": ".py",
   "mimetype": "text/x-python",
   "name": "python",
   "nbconvert_exporter": "python",
   "pygments_lexer": "ipython3",
   "version": "3.9.7"
  }
 },
 "nbformat": 4,
 "nbformat_minor": 5
}
