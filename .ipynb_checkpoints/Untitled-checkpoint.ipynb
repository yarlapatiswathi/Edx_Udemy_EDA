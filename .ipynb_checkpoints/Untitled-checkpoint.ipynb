{
 "cells": [
  {
   "cell_type": "code",
   "execution_count": null,
   "id": "0144e2a2",
   "metadata": {},
   "outputs": [],
   "source": [
    "edx = edxcourses_df.to_csv(\"edxcourses_cleaned.csv\")\n",
    "edx"
   ]
  },
  {
   "cell_type": "code",
   "execution_count": null,
   "id": "404241d7",
   "metadata": {},
   "outputs": [],
   "source": [
    "#creating database,table and pusing data to sqllite3 db\n",
    "Path('edxcourses.db').touch()\n",
    "edx_conn = sqlite3.connect('edxcourses.db')\n",
    "edx_cursor = edx_conn.cursor()\n",
    "edxcourses_df.to_sql('edxcourses', edx_conn, if_exists='append', index=False)"
   ]
  },
  {
   "cell_type": "code",
   "execution_count": null,
   "id": "b112ab15",
   "metadata": {},
   "outputs": [],
   "source": [
    "edx_df = pd.read_sql(''' SELECT * FROM edxcourses ''', edx_conn)\n",
    "edx_df.head()"
   ]
  }
 ],
 "metadata": {
  "kernelspec": {
   "display_name": "Python 3 (ipykernel)",
   "language": "python",
   "name": "python3"
  },
  "language_info": {
   "codemirror_mode": {
    "name": "ipython",
    "version": 3
   },
   "file_extension": ".py",
   "mimetype": "text/x-python",
   "name": "python",
   "nbconvert_exporter": "python",
   "pygments_lexer": "ipython3",
   "version": "3.9.7"
  }
 },
 "nbformat": 4,
 "nbformat_minor": 5
}
